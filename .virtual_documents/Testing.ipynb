get_ipython().run_cell_magic("latex", "", """
The equation used depends on whether the the value of  
$Vmax$ is R, G, or B.  """)


import hdbscan
from sklearn.datasets import make_blobs
import pandas as pd
from sklearn.ensemble import RandomForestClassifier as rf 


def calculate_SSE(data):
    y_hat = model.predict(X)
    resid = y - y_hat
    sse = sum(resid**2)
    return(sse)


#k = number of variables
#n = number of observations
def calculate_AIC(sse, k, n):
    aic = 2*k - 2*ln(sse)
    return(aic)


def calculate_BIC(sse, k, n):
    bic = n*ln(sse/n) + k*ln(n)
    return(bic)


blobs, labels = make_blobs(n_samples=2000, n_features=10)


clusterer = hdbscan.HDBSCAN()
clusterer.fit(blobs)
clusterer.labels_


calculate_SSE(blobs)



