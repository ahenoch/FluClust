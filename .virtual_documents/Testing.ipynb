from sklearn.manifold import MDS
import scipy.spatial.distance as ssd
from Bio import Align, SeqIO
import numpy as np
import matplotlib.pyplot as plt
import pandas as pd


def pairmsa(nuc1, nuc2):

    seq1 = record[nuc1.item()].seq
    seq2 = record[nuc2.item()].seq

    aligner = Align.PairwiseAligner()
    aligner.mode = 'global'

    alignment = aligner.align(seq1, seq2)[0]
    score = 1-alignment.score/len(str(alignment).split('\n')[0])

    return(score)


record = SeqIO.index(
    'C.fasta',
    'fasta',
    key_function=lambda entry: entry.split('|')[0]
)
accessions = list(record.keys())


main = np.array(accessions)
main = main.reshape(-1, 1)


get_ipython().run_cell_magic("timeit", "", """dissimilarities = ssd.cdist(main, main, metric=pairmsa)""")


pd.DataFrame(dissimilarities, columns = accessions, index = accessions)#.max()


embedding = MDS(n_components=2, dissimilarity='precomputed')
transformed = embedding.fit_transform(dissimilarities)
data = pd.DataFrame(transformed, columns=['x', 'y'], index=accessions)


plt.figure(figsize=(25, 25))

for i in range(len(data)):
    x = data.iloc[i][0]
    y = data.iloc[i][1]
    name = data.iloc[i].name
    plt.plot(x, y, 'bo')
    plt.text(
        x + 0.0025,
        y + 0.0025,
        name,
        fontsize=15
    )



plt.xlabel('x', fontsize = 15)
plt.ylabel('y', fontsize = 15)
plt.savefig('books_read.pdf')



