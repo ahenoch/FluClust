#https://yulab-smu.top/treedata-book/chapter6.html 
require('ggplot2')# || install.packages('ggplot2', dependencies = TRUE)
#require('BiocManager')# || install.packages('BiocManager', dependencies = TRUE)
require('ggtree')# || BiocManager::install('ggtree')
require('ggtreeExtra')# || BiocManager::install('ggtreeExtra')
require('treeio')
require('tidytree')
require('tidyverse')
require('dplyr')
require('ggstar')
#require('TDbook')
require('stringr')
require('ape')
require('plotly')
#require('viridis')
require('ggnewscale')
require('tanggle')
require('phangorn')


name <- 'influenza_segment_4'
outfolder <- 'Result_Segment_4'
color <- 'H'


if (!substr(outfolder,nchar(outfolder),nchar(outfolder)) == '/'){
    outfolder <- paste0(outfolder, '/')
}


framecentroid <- read.csv(paste0(outfolder, 'centroids_', name, '.csv'), header = TRUE, sep = ',')
framemeta <- read.csv(paste0(outfolder, 'meta_', name, '.csv'), header = TRUE, sep = ',')
framecluster <- read.csv(paste0(outfolder, 'cluster_', name, '.csv'), header = TRUE, sep = ',')
framevectors <- read.csv(paste0(outfolder, 'vectors_', name, '.csv'), header = TRUE, sep = ',')
#, row.names = 1


cluster <- inner_join(framecluster, framemeta, by = 'accession')
vectors <- inner_join(framevectors, cluster, by = 'accession')
centroid <- inner_join(framecentroid, framemeta, by = 'accession')


pca <- read.csv(paste0(outfolder, 'pca_', name, '.csv'), header = TRUE, sep = ',')
info <- read.csv(paste0(outfolder, 'info_', name, '.csv'), header = TRUE, sep = ',')


#tree <- read.tree(paste0('centroids_', name, '.fasta.tree'))
tree <- read.tree(paste0(outfolder, 'RAxML_bestTree.', name, '.tree'))


listcolor <- c(
    "dodgerblue2", "#E31A1C",
    "green4",
    "#6A3D9A",
    "#FF7F00",
    "aquamarine4", "gold1",
    "skyblue2", "#FB9A99",
    "palegreen2",
    "#CAB2D6",
    "#FDBF6F",
    "gray70", "khaki2",
    "maroon", "orchid1", 
    "deeppink1", "blue1", "steelblue4",
    "darkturquoise", "green1", "yellow4", "yellow3",
    "darkorange4", "brown"
)


if(color != ''){
    #frame <- centroid[ , c('accession', color)] %>% remove_rownames %>% column_to_rownames(var="accession") 
    subtype <- c(str_sort(levels(as.factor(centroid[[color]])), numeric = TRUE), 'mixed')

    centroid[[color]][is.na(centroid[[color]])] <- 'mixed'
    centroid[[color]] <- factor(centroid[[color]], levels=subtype)
    frame <- centroid[ , c('accession', color)] %>% remove_rownames %>% column_to_rownames(var="accession") 

    q <- length(subtype)-1
}


options(repr.plot.width=20, repr.plot.height=20)

p0 <- ggtree(tree, layout='circular') %<+% centroid

p1 <- open_tree(p0, 0) +
    geom_treescale(width = 0.25) + 
    geom_tippoint(aes(size=size), alpha=.6) +
    geom_tiplab2(aes(label=paste0(cluster, ':', label)), align=TRUE) +#, parse=T) +
    scale_size_continuous(
        name = 'size',
        breaks = c(2, 10, 100, 1000, 10000), 
        guide = guide_legend(
            override.aes = list(shape = 15, size = 10),
            title.theme = element_text(size = 20, face = "bold"),
            label.theme = element_text(size = 15)
        )
    )   

if(color != ''){
    p2 <- p1 +
         new_scale_fill()

    p3 <- gheatmap(
            p2, 
            frame, 
            offset=0.5, 
            width=0.05, 
            #font.size=3, 
            #colnames_angle=0, 
            colnames = TRUE, 
            #hjust=0
        ) +
        {if(color != '')scale_fill_manual(
            name = color,
            values = c(listcolor[0:q], 'black'),
            breaks = subtype, 
            labels = subtype,
            #na.value = "black",
            guide = guide_legend(
                override.aes = list(shape = 15, size = 10),
                title.theme = element_text(size = 20, face = "bold"),
                label.theme = element_text(size = 15)
            )
        )}
}else{
    p3 <- p1
}

print(p3)
ggsave(paste0(outfolder, 'centroid_', name, '.pdf'), width = 50, height = 50, units = "cm", limitsize = FALSE)
knitr::plot_crop(paste0(outfolder, 'centroid_', name, '.pdf'))


msa <- read.dna(paste0(outfolder, 'centroids_', name, '.msa.fasta'), format = "fasta")
dm <- dist.ml(msa)
nnet <- neighborNet(dm)
#nnet <- read.nexus.networx(paste0('centroids_', name, '.nex'))


if(color != ''){
    k <- sapply(nnet$tip.label, (\(x) centroid[which(centroid$accession == x),][[color]]), simplify = TRUE, USE.NAMES = TRUE)
}

c <- sapply(nnet$tip.label, (\(x) centroid[which(centroid$accession == x),]$cluster), simplify = TRUE, USE.NAMES = TRUE)
s <- sapply(nnet$tip.label, (\(x) centroid[which(centroid$accession == x),]$size), simplify = TRUE, USE.NAMES = TRUE)


options(repr.plot.width=20, repr.plot.height=20)

p4 <- ggsplitnet(nnet) 

p5 <- p4 + 
    {if(color != '')geom_tiplab2(aes(label = paste0(c[label], ':', label), color = k[label]), hjust = -.5)} +
    {if(color == '')geom_tiplab2(aes(label = paste0(c[label], ':', label)), hjust = -.5)} +
    {if(color != '')geom_tippoint(aes(color = k[label], size = s[label]))} +
    {if(color == '')geom_tippoint(aes(size = s[label]))} +
    theme(legend.position = "right") +
    {if(color != '')scale_color_manual(
        name = color,
        values = c(listcolor[0:q], 'black'),
        breaks = subtype, 
        labels = subtype,
        #na.value = "black",
        guide = guide_legend(
            override.aes = list(shape = 15, size = 10),
            title.theme = element_text(size = 20, face = "bold"),
            label.theme = element_text(size = 15)
        )
    )} +
    scale_size_continuous(
        name = 'size',
        breaks = c(2, 10, 100, 1000, 10000), 
        guide = guide_legend(
            override.aes = list(shape = 15, size = 10),
            title.theme = element_text(size = 20, face = "bold"),
            label.theme = element_text(size = 15)
        )
    ) +
    ggexpand(.1) + ggexpand(.1, direction=-1)

print(p5)
ggsave(paste0(outfolder, 'nexus_', name, '.pdf'), width = 50, height = 50, units = "cm", limitsize = FALSE)
knitr::plot_crop(paste0(outfolder, 'nexus_', name, '.pdf'))


if(color != ''){
    subtype <- c(str_sort(levels(as.factor(vectors[[color]])), numeric = TRUE), 'mixed')
    vectors[[color]][is.na(vectors[[color]])] <- 'mixed'
    #vectors[[color]] <- ifelse(vectors$accession %in% centroid$accession, 'centroid', vectors[[color]])
    vectors[[color]] <- factor(vectors[[color]], levels=subtype)
    
    q <- length(subtype)-1
}

vectors$centroid <- with(vectors, ifelse(accession %in% centroid$accession, 'C', 'nC'))
vectorscentroid <- factor(vectors$centroid)


#as.matrix(vectors[vectors$centroid == 'C', -1])
vec1 <- subset(vectors, centroid == 'nC')
vec2 <- subset(vectors, centroid == 'C')


rownames(vec1) <- NULL
rownames(vec2) <- NULL


options(repr.plot.width=20, repr.plot.height=20)

fig <- if(color != ''){
    plot_ly(
        vec1,
        x = ~x,
        y = ~y,
        z = ~z,
        #symbol = ~centroid,
        #symbols = c('circle','x'),
        color = vec1[[color]], 
        colors = c(listcolor[0:q], 'black'),
        type = 'scatter3d', 
        mode = 'markers',
        #size = 1,
        marker = list(symbol = 'circle', size = 1),
        text = ~paste('Host:', host, '<br>Subtype:', subtype, '<br>Year:', year, '<br>Accession:', accession, '<br>Cluster:', cluster),
        width = 1200,
        height = 1200
    )
} else {
    plot_ly(
        vec1,
        x = ~x,
        y = ~y,
        z = ~z,
        type = 'scatter3d', 
        mode = 'markers',
        #size = 1,
        marker = list(symbol = 'circle', size = 1),
        text = ~paste('Host:', host, '<br>Subtype:', subtype, '<br>Year:', year, '<br>Accession:', accession, '<br>Cluster:', cluster),
        width = 1200,
        height = 1200,
        name = 'mixed',
        color = I('black')
    )
}

fig <- if(color != ''){
    fig %>% add_trace(
        data = vec2,
        x = ~x,
        y = ~y,
        z = ~z,
        #color = I('black'),
        color = vec2[[color]], 
        colors = c(listcolor[0:q], 'black'),
        type = 'scatter3d', 
        mode = 'markers',
        marker = list(symbol = 'x', size = 1),
        #name = 'centroid',
        text = ~paste('Host:', host, '<br>Subtype:', subtype, '<br>Year:', year, '<br>Accession:', accession, '<br>Cluster:', cluster)
    )
} else {
    fig %>% add_trace(
        data = vec2,
        x = ~x,
        y = ~y,
        z = ~z,
        color = I('black'),
        marker = list(symbol = 'x', size = 1),
        name = 'mixed',
        text = ~paste('Host:', host, '<br>Subtype:', subtype, '<br>Year:', year, '<br>Accession:', accession, '<br>Cluster:', cluster)
    )
}

fig <- fig %>% layout(
    scene = list(
        xaxis = list(
            title = 'PCA1',
            #gridcolor = 'rgb(255, 255, 255)',
            #zerolinewidth = 1,
            #ticklen = 5,
            #gridwidth = 2,
            range = c(-1.0, 1.0)
        ),
        yaxis = list(title = 'PCA2',
            range = c(-1.0, 1.0)
        ),
        zaxis = list(title = 'PCA3',
            range = c(-1.0, 1.0)
        ),
        #paper_bgcolor = 'rgb(243, 243, 243)',
        #plot_bgcolor = 'rgb(243, 243, 243)',
        aspectmode = 'cube'
    ),
    autosize = TRUE,
    margin = c(l=0, r=0, b=0, t=0), 
    #title = 'Life Expectancy v. Per Capita GDP, 2007',
    legend = list(
        orientation = 'v',
        yanchor = 'middle',
        y = 0.5,
        itemsizing='constant'
    )
)

embed_notebook(fig)

htmltools::save_html(fig, paste0(outfolder, 'sphere_', name, '.html'))


reduced <- info$components


options(repr.plot.width=20, repr.plot.height=5)

p6 <- ggplot(data=pca, aes(x=components, y=variance)) +
    geom_line() +
    geom_point() +
    theme_light() + 
    geom_vline(xintercept=c(3, reduced), linetype='dashed', color=c('blue', 'red'))
    
p7 <- p6 + annotate(x=c(3, info$components),y=+Inf,label=c(pca[pca$components==3,]$variance, pca[pca$components==reduced,]$variance),vjust=2,geom="label")

print(p7)
ggsave(paste0(outfolder, 'pca_', name, '.pdf'), width = 50, height = 10, units = "cm", limitsize = FALSE)
knitr::plot_crop(paste0(outfolder, 'pca_', name, '.pdf'))





stdout, stderr = raxml_cline()
