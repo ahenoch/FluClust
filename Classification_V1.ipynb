{
 "cells": [
  {
   "cell_type": "code",
   "execution_count": 6,
   "id": "062fe67a-9747-4107-ad66-a3077f12ab3e",
   "metadata": {},
   "outputs": [],
   "source": [
    "import pandas as pd\n",
    "import seaborn as sns"
   ]
  },
  {
   "cell_type": "code",
   "execution_count": 64,
   "id": "7bf7e218-29b3-464f-9cc6-16a32880eedb",
   "metadata": {},
   "outputs": [],
   "source": [
    "exclude = [i for i, line in enumerate(open('A.fasta')) if not line.startswith('>')]\n",
    "metadata = pd.read_csv('A.fasta', skiprows = exclude, sep = '|', na_filter = False, header = None)\n",
    "metadata.columns = ['accession', 'strain', 'segment', 'protein', 'genus', 'subtype', 'date', 'host', 'curation']"
   ]
  },
  {
   "cell_type": "code",
   "execution_count": 61,
   "id": "3451a9e5-579c-4be5-8958-a4194ce488de",
   "metadata": {},
   "outputs": [],
   "source": [
    "cluster = pd.read_csv('cluster.csv', sep = ',', na_filter = False, header = 0, index_col = 0)\n",
    "intersection = set(metadata.columns) & set(cluster.columns)\n",
    "classification = cluster.join(metadata.set_index('accession').drop(columns=list(intersection), axis=1))"
   ]
  },
  {
   "cell_type": "code",
   "execution_count": 62,
   "id": "e21cd2ff-5ac8-4bce-bdf4-0902108378fc",
   "metadata": {},
   "outputs": [],
   "source": [
    "number = classification.nunique(axis=0)\n",
    "names = pd.Series({c: classification[c].unique() for c in classification})"
   ]
  },
  {
   "cell_type": "code",
   "execution_count": null,
   "id": "3116e071-740b-4025-a8d8-7e2911340d2e",
   "metadata": {},
   "outputs": [],
   "source": []
  }
 ],
 "metadata": {
  "kernelspec": {
   "display_name": "Python 3 (ipykernel)",
   "language": "python",
   "name": "python3"
  },
  "language_info": {
   "codemirror_mode": {
    "name": "ipython",
    "version": 3
   },
   "file_extension": ".py",
   "mimetype": "text/x-python",
   "name": "python",
   "nbconvert_exporter": "python",
   "pygments_lexer": "ipython3",
   "version": "3.9.7"
  }
 },
 "nbformat": 4,
 "nbformat_minor": 5
}
