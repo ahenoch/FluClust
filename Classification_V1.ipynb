{
 "cells": [
  {
   "cell_type": "code",
   "execution_count": 209,
   "id": "062fe67a-9747-4107-ad66-a3077f12ab3e",
   "metadata": {},
   "outputs": [],
   "source": [
    "import pandas as pd\n",
    "import seaborn as sns\n",
    "import re\n",
    "import numpy as np"
   ]
  },
  {
   "cell_type": "code",
   "execution_count": 218,
   "id": "5399f826-5a1e-4986-8df7-e726f9236b2e",
   "metadata": {},
   "outputs": [],
   "source": [
    "def get_vector(frame, components, col):\n",
    "\n",
    "    #number of unique values and dictionary of unique values\n",
    "    #number = classification.nunique(axis=0)\n",
    "\n",
    "    components.update(frame[col].value_counts().to_dict())\n",
    "    vector = np.fromiter(components.values(), dtype = int)\n",
    "    \n",
    "    return(vector/vector.sum())"
   ]
  },
  {
   "cell_type": "code",
   "execution_count": 219,
   "id": "7bf7e218-29b3-464f-9cc6-16a32880eedb",
   "metadata": {},
   "outputs": [],
   "source": [
    "#FASTA metadata upload, faster version of the one in the masterthesis\n",
    "exclude = [i for i, line in enumerate(open('A.fasta')) if not line.startswith('>')]\n",
    "metadata = pd.read_csv('A.fasta', skiprows = exclude, sep = '|', na_filter = False, header = None)\n",
    "metadata.columns = ['accession', 'strain', 'segment', 'protein', 'genus', 'subtype', 'date', 'host', 'curation']"
   ]
  },
  {
   "cell_type": "code",
   "execution_count": 220,
   "id": "3451a9e5-579c-4be5-8958-a4194ce488de",
   "metadata": {},
   "outputs": [],
   "source": [
    "#upload cluster dataframe, join to metadata minus equivalent segment column\n",
    "cluster = pd.read_csv('cluster.csv', sep = ',', na_filter = False, header = 0, index_col = 0)\n",
    "intersection = set(metadata.columns) & set(cluster.columns)\n",
    "classification = cluster.join(metadata.set_index('accession').drop(columns=list(intersection), axis=1))"
   ]
  },
  {
   "cell_type": "code",
   "execution_count": 221,
   "id": "d4b40699-f645-4f32-84e3-735bda3da14e",
   "metadata": {},
   "outputs": [],
   "source": [
    "#Date Column Cleanup and components\n",
    "classification[['month', 'day', 'year']] = classification['date'].apply(lambda x : x if len(re.findall('/', x)) == 2 else (x.split('/')[0] + '/NA/' + x.split('/')[1] if len(re.findall('/', x)) == 1 else 'NA/NA/' + x)).str.split('/', expand=True)\n",
    "names = pd.Series({c: classification[c].unique() for c in classification})\n",
    "components = dict.fromkeys(names['year'], 0)"
   ]
  },
  {
   "cell_type": "code",
   "execution_count": 222,
   "id": "17729af9-01e9-4ccd-8be9-4311dce9b69d",
   "metadata": {},
   "outputs": [],
   "source": [
    "vectors = classification.groupby(by=['segment', 'cluster']).apply(lambda x: get_vector(x, components, 'year'))"
   ]
  },
  {
   "cell_type": "code",
   "execution_count": 226,
   "id": "43869fb3-9911-4524-9397-e47b3d78acc6",
   "metadata": {},
   "outputs": [
    {
     "data": {
      "text/plain": [
       "cluster\n",
       "-1     [0.0, 0.0, 0.0, 0.06896551724137931, 0.0689655...\n",
       " 0     [0.0, 0.0, 0.018691588785046728, 0.09345794392...\n",
       " 1     [4.9348598499802604e-05, 4.9348598499802604e-0...\n",
       " 2     [5.1007396072430504e-05, 5.1007396072430504e-0...\n",
       " 3     [5.927330922885425e-05, 5.927330922885425e-05,...\n",
       " 4     [0.0002508780732563974, 0.0002508780732563974,...\n",
       " 5     [0.0002516356316054353, 0.0002516356316054353,...\n",
       " 6     [0.00025144581342720644, 0.0002514458134272064...\n",
       " 7     [0.0002522704339051463, 0.0002522704339051463,...\n",
       " 8     [0.0002595380223202699, 0.0002595380223202699,...\n",
       " 9     [0.0002594706798131811, 0.0002594706798131811,...\n",
       " 10    [7.597052343690648e-05, 7.597052343690648e-05,...\n",
       " 11    [9.334453467749463e-05, 9.334453467749463e-05,...\n",
       " 12    [7.990411506192568e-05, 7.990411506192568e-05,...\n",
       " 13    [9.3694368968425e-05, 9.3694368968425e-05, 0.0...\n",
       " 14    [0.00010362694300518135, 0.0001036269430051813...\n",
       " 15    [0.00010359473738734072, 0.0001035947373873407...\n",
       " 16    [0.00010548523206751055, 0.0001054852320675105...\n",
       " 17    [0.00011950286806883365, 0.0001195028680688336...\n",
       " 18    [0.00020193861066235866, 0.0002019386106623586...\n",
       " 19    [0.00029069767441860465, 0.0002906976744186046...\n",
       " 20    [0.00030339805825242716, 0.0003033980582524271...\n",
       " 21    [0.0005405405405405405, 0.0005405405405405405,...\n",
       " 22    [0.0005537098560354374, 0.0005537098560354374,...\n",
       " 23    [0.0006297229219143577, 0.0006297229219143577,...\n",
       " 24    [0.0007132667617689016, 0.0007132667617689016,...\n",
       " 25    [0.0014641288433382138, 0.0014641288433382138,...\n",
       " 26    [0.001455604075691412, 0.001455604075691412, 0...\n",
       " 27    [0.00027533039647577095, 0.0002753303964757709...\n",
       "dtype: object"
      ]
     },
     "execution_count": 226,
     "metadata": {},
     "output_type": "execute_result"
    }
   ],
   "source": [
    "vectors.loc[1]"
   ]
  },
  {
   "cell_type": "raw",
   "id": "e6ecc305-a498-4f1b-a23a-a6232ddc6ff3",
   "metadata": {},
   "source": [
    "#example \n",
    "sns.set_theme()\n",
    "\n",
    "# Load the brain networks example dataset\n",
    "df = sns.load_dataset(\"brain_networks\", header=[0, 1, 2], index_col=0)\n",
    "\n",
    "# Select a subset of the networks\n",
    "used_networks = [1, 5, 6, 7, 8, 12, 13, 17]\n",
    "used_columns = (df.columns.get_level_values(\"network\")\n",
    "                          .astype(int)\n",
    "                          .isin(used_networks))\n",
    "df = df.loc[:, used_columns]\n",
    "\n",
    "# Create a categorical palette to identify the networks\n",
    "network_pal = sns.husl_palette(8, s=.45)\n",
    "network_lut = dict(zip(map(str, used_networks), network_pal))\n",
    "\n",
    "# Convert the palette to vectors that will be drawn on the side of the matrix\n",
    "networks = df.columns.get_level_values(\"network\")\n",
    "network_colors = pd.Series(networks, index=df.columns).map(network_lut)\n",
    "\n",
    "# Draw the full plot\n",
    "g = sns.clustermap(df.corr(), center=0, cmap=\"vlag\",\n",
    "                   row_colors=network_colors, col_colors=network_colors,\n",
    "                   dendrogram_ratio=(.1, .2),\n",
    "                   cbar_pos=(.02, .32, .03, .2),\n",
    "                   linewidths=.75, figsize=(12, 13))\n",
    "\n",
    "g.ax_row_dendrogram.remove()"
   ]
  }
 ],
 "metadata": {
  "kernelspec": {
   "display_name": "Python 3 (ipykernel)",
   "language": "python",
   "name": "python3"
  },
  "language_info": {
   "codemirror_mode": {
    "name": "ipython",
    "version": 3
   },
   "file_extension": ".py",
   "mimetype": "text/x-python",
   "name": "python",
   "nbconvert_exporter": "python",
   "pygments_lexer": "ipython3",
   "version": "3.9.7"
  }
 },
 "nbformat": 4,
 "nbformat_minor": 5
}
