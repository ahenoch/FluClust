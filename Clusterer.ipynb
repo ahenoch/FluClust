{
 "cells": [
  {
   "cell_type": "markdown",
   "id": "79d8651b-5274-4fc6-ab22-176f456fa406",
   "metadata": {
    "tags": []
   },
   "source": [
    "# K-mer Evolution Notebook\n",
    "\n",
    "- HDBSCAN github errors!\n",
    "    - need to find version without problems\n",
    "    - if now finding one revert back to MA version\n",
    "- better inclusion of R, N, ... in the kmer\n",
    "    - status: finished\n",
    "- evolution on reading frame\n",
    "    - difficult, ORF notebook necessary for it\n",
    "- status: unfinished\n",
    "\n",
    "![Class](Clusterer.svg)"
   ]
  },
  {
   "cell_type": "code",
   "execution_count": 1,
   "id": "renewable-pledge",
   "metadata": {},
   "outputs": [],
   "source": [
    "from kneed import DataGenerator, KneeLocator\n",
    "import matplotlib.pyplot as plt\n",
    "import numpy as np\n",
    "import pandas as pd\n",
    "import itertools as it\n",
    "from Bio import SeqIO\n",
    "from Bio.Seq import Seq\n",
    "import math\n",
    "import re\n",
    "from sklearn.preprocessing import normalize\n",
    "from sklearn.decomposition import PCA\n",
    "import hdbscan\n",
    "from scipy.signal import savgol_filter\n",
    "from sklearn.neighbors import NearestNeighbors"
   ]
  },
  {
   "cell_type": "code",
   "execution_count": 2,
   "id": "2a2b792e-80db-4f31-8085-18ea98ac84ee",
   "metadata": {},
   "outputs": [],
   "source": [
    "#constants\n",
    "\n",
    "k = 7 \n",
    "split = '|' \n",
    "segment = '4' \n",
    "quality = 'Pass' \n",
    "qualpos = 8\n",
    "segpos = 2 \n",
    "variable = 0.9\n",
    "min_clust = 2\n",
    "sample = 1\n",
    "kneedle =  500\n",
    "n_components = 50"
   ]
  },
  {
   "cell_type": "code",
   "execution_count": 3,
   "id": "noticed-pitch",
   "metadata": {},
   "outputs": [],
   "source": [
    "class Vectors(object):\n",
    "    \n",
    "    def __init__(self, k = 7, split = None, segment = None, quality = None, qualpos = 0, segpos = 0, variable = 0.9):\n",
    "    \n",
    "        self.k = k\n",
    "        self.qualpos = qualpos\n",
    "        self.segpos = segpos\n",
    "        self.split = split\n",
    "        self.segment = segment\n",
    "        self.quality = quality\n",
    "        self.variable = variable\n",
    "        \n",
    "        self.nucleotides = ['A', 'C', 'G', 'T']\n",
    "        self.substit = dict.fromkeys(map(ord, self.nucleotides), None)\n",
    "        self.exist = dict.fromkeys(map(''.join, it.product(self.nucleotides, repeat = self.k)), 0)        \n",
    "        self.col = len(self.exist.keys())\n",
    "        \n",
    "        self.amino = {\n",
    "            'AAA':'K', 'AAC':'N', 'AAG':'K', 'AAT':'N',\n",
    "            'ACA':'T', 'ACC':'T', 'ACG':'T', 'ACT':'T',\n",
    "            'AGA':'R', 'AGC':'S', 'AGG':'R', 'AGT':'S',\n",
    "            'ATA':'I', 'ATC':'I', 'ATG':'M', 'ATT':'I',\n",
    "            'CAA':'Q', 'CAC':'H', 'CAG':'Q', 'CAT':'H',\n",
    "            'CCA':'P', 'CCC':'P', 'CCG':'P', 'CCT':'P',\n",
    "            'CGA':'R', 'CGC':'R', 'CGG':'R', 'CGT':'R',\n",
    "            'CTA':'L', 'CTC':'L', 'CTG':'L', 'CTT':'L',\n",
    "            'GAA':'E', 'GAC':'D', 'GAG':'E', 'GAT':'D',\n",
    "            'GCA':'A', 'GCC':'A', 'GCG':'A', 'GCT':'A',\n",
    "            'GGA':'G', 'GGC':'G', 'GGG':'G', 'GGT':'G',\n",
    "            'GTA':'V', 'GTC':'V', 'GTG':'V', 'GTT':'V',    \n",
    "            'TAA':'Y', 'TAC':'*', 'TAG':'*', 'TAT':'Y',\n",
    "            'TCA':'S', 'TCC':'S', 'TCG':'S', 'TCT':'S',\n",
    "            'TGA':'*', 'TGC':'C', 'TGG':'W', 'TGT':'C',\n",
    "            'TTA':'L', 'TTC':'F', 'TTG':'L', 'TTT':'F',\n",
    "        }\n",
    "        self.nucex = {\n",
    "            'A':['A'],\n",
    "            'C':['C'],\n",
    "            'G':['G'],\n",
    "            'T':['T'],\n",
    "            'R':['A', 'G'],\n",
    "            'Y':['C', 'T'],\n",
    "            'W':['A', 'T'],\n",
    "            'S':['C', 'G'],\n",
    "            'M':['A', 'C'],\n",
    "            'K':['G', 'T'],\n",
    "            'B':['G', 'C', 'T'],\n",
    "            'H':['A', 'C', 'T'],\n",
    "            'D':['A', 'G', 'T'],\n",
    "            'V':['A', 'C', 'G'],\n",
    "            'N':['A', 'C', 'G', 'T'],\n",
    "        } \n",
    "        self.nucmut = {\n",
    "            'A':['C', 'G', 'T'],\n",
    "            'C':['A', 'G', 'T'],\n",
    "            'G':['A', 'C', 'T'],\n",
    "            'T':['A', 'C', 'G'],\n",
    "        } \n",
    "    \n",
    "    def checkup(self, name):\n",
    "        \n",
    "        try:\n",
    "            if self.segment and self.quality:    \n",
    "                head = name.split(self.split)\n",
    "                if re.match(self.segment, head[self.segpos], re.IGNORECASE) and re.match(self.quality, head[self.qualpos], re.IGNORECASE):\n",
    "                    return(True)\n",
    "                else:\n",
    "                    return(False)\n",
    "\n",
    "            elif self.segment or self.quality:\n",
    "                head = name.split(self.split)\n",
    "                \n",
    "                if e.match(self.segment, head[self.segpos], re.IGNORECASE) or re.match(self.quality, head[self.qualpos], re.IGNORECASE):\n",
    "                    return(True)\n",
    "                else:\n",
    "                    return(False)\n",
    "\n",
    "            else:\n",
    "                return(True)\n",
    "        except:\n",
    "            return(False)\n",
    "            \n",
    "    def countRows(self, infile):\n",
    "        \n",
    "        row = 0\n",
    "        for entry in SeqIO.parse(infile,'fasta'):\n",
    "            \n",
    "            name = entry.name\n",
    "            sequence = str(entry.seq)\n",
    "            missing = len(sequence.translate(self.substit))\n",
    "            fracture = float(len(sequence)/missing) if missing else 0 \n",
    "            \n",
    "            if self.checkup(name) == True and fracture <= self.variable:\n",
    "                row += 1\n",
    "                \n",
    "        return(row)\n",
    "    \n",
    "    def calculateFrequence(self, infile):\n",
    "        \n",
    "        row = self.countRows(infile)\n",
    "        index = np.empty(row, dtype = 'object')\n",
    "        matrix = np.empty((row, self.col, ),dtype = 'float32')\n",
    "        \n",
    "        pos = 0\n",
    "        for entry in SeqIO.parse(infile,'fasta'):\n",
    "            \n",
    "            name = entry.name\n",
    "            sequence = str(entry.seq)\n",
    "            accession = name.split(self.split)[0]\n",
    "            missing = len(sequence.translate(self.substit))\n",
    "            fracture = float(len(sequence)/missing) if missing else 0 \n",
    "            \n",
    "            if self.checkup(name) == True and fracture <= self.variable:\n",
    "                for i in range(len(sequence) - self.k + 1):\n",
    "                    \n",
    "                    kmer = sequence[i:i+self.k]\n",
    "                    \n",
    "                    if fracture == 0:\n",
    "                        main = [kmer]\n",
    "                        size = 1\n",
    "                    else:\n",
    "                        main = map(''.join, it.product(*[self.nucex.get(j) for j in kmer]))\n",
    "                        size = np.prod([len(self.nucex.get(k)) for k in kmer])\n",
    "                        \n",
    "                    for sub in main:\n",
    "                        self.exist[sub] += float(1/size)\n",
    "                    #    self.exist[sub] += float((1-self.mutfac)/size)     \n",
    "                    #    for l, nuc in enumerate(sub):\n",
    "                    #        for mutation in map(''.join, it.product(*[[sub[:l]], self.nucmut.get(nuc), [sub[l+1:]]])):\n",
    "                    #            self.exist[mutation] += float(self.mutfac/(size*12))\n",
    "\n",
    "                matrix[pos] = np.fromiter(self.exist.values(), dtype = 'float32', count = self.col)/sum(self.exist.values())\n",
    "                index[pos] = accession\n",
    "                \n",
    "                self.exist.update((k,0) for k in self.exist.keys())\n",
    "                pos += 1\n",
    "            \n",
    "        return(index, matrix)"
   ]
  },
  {
   "cell_type": "code",
   "execution_count": 4,
   "id": "438236e1-49b4-4544-9d0d-4d659e2490dc",
   "metadata": {},
   "outputs": [],
   "source": [
    "def get_elbow(dataframe, index, min_clust, sample, kneedle):\n",
    "    \n",
    "    #with some help from https://joernhees.de/blog/2015/08/26/scipy-hierarchical-clustering-and-dendrogram-tutorial/\n",
    "    \n",
    "    clusterer_best = hdbscan.HDBSCAN(\n",
    "        min_samples = sample,\n",
    "        min_cluster_size = min_clust,\n",
    "        gen_min_span_tree = True,\n",
    "        metric = 'euclidean',\n",
    "    ).fit(dataframe)\n",
    "    \n",
    "    label = clusterer_best.labels_\n",
    "    label_list = label.tolist()\n",
    "    \n",
    "    if -1 in label_list:\n",
    "        label_list.remove(-1)\n",
    "    \n",
    "    n_cluster = len(set(label_list))\n",
    "    \n",
    "    linkage = clusterer_best.single_linkage_tree_.to_pandas()\n",
    "    numpy_linkage = linkage.drop(columns=['parent']).to_numpy()\n",
    "    \n",
    "    dist = numpy_linkage[:, 2]\n",
    "    dist_rev = dist[::-1]\n",
    "    \n",
    "    if kneedle == -1:\n",
    "        dist_area = dist_rev[0:n_cluster]\n",
    "    else:\n",
    "        dist_area = dist_rev[0:kneedle]\n",
    "    \n",
    "    idxs = np.arange(1, len(dist_area) + 1)\n",
    "\n",
    "    kn = KneeLocator(idxs, dist_area,\n",
    "        curve='convex',\n",
    "        direction='decreasing',\n",
    "        interp_method='polynomial',\n",
    "        online=True,\n",
    "        S = 1.0,\n",
    "    )\n",
    "    \n",
    "    n_cluster_raw = kn.knee\n",
    "    n_cluster_norm = kn.norm_knee\n",
    "    \n",
    "    #linkage.set_index('parent', inplace = True)\n",
    "    elbow = pd.DataFrame({'n_cluster': idxs, \n",
    "                          'distance': dist_area, \n",
    "                          'x_normalized':kn.x_normalized, \n",
    "                          'y_normalized':kn.y_normalized, \n",
    "                          'x_difference':kn.x_difference, \n",
    "                          'y_difference':kn.y_difference}).set_index('n_cluster')\n",
    "    epsilon_best = elbow.loc[n_cluster_raw][['distance']].item()\n",
    "    linkage.set_index('parent', inplace = True)\n",
    "    \n",
    "    return(linkage, elbow, epsilon_best, n_cluster_raw, n_cluster_norm)"
   ]
  },
  {
   "cell_type": "code",
   "execution_count": 4,
   "id": "dc4e5b3c-5e6c-4d3a-a779-30d081c10c6d",
   "metadata": {},
   "outputs": [],
   "source": [
    "def get_cluster(epsilon_best, dataframe, accession, min_clust, sample):\n",
    "    \n",
    "    clusterer_best = hdbscan.HDBSCAN(\n",
    "        min_samples = sample,\n",
    "        min_cluster_size = min_clust,\n",
    "        cluster_selection_epsilon = epsilon_best,\n",
    "        gen_min_span_tree=True,\n",
    "        metric = 'euclidean',\n",
    "    ).fit(dataframe)\n",
    "\n",
    "    label = clusterer_best.labels_\n",
    "    label_list = label.tolist()\n",
    "    \n",
    "    unclustered = label_list.count(-1)\n",
    "    label_set = set(label_list)\n",
    "    \n",
    "    if -1 in label_set:\n",
    "        label_set.remove(-1)\n",
    "    \n",
    "    n_cluster = len(label_set)\n",
    "    \n",
    "    cluster = pd.DataFrame(zip(index, label), columns = ['accession', 'cluster']).set_index('accession')\n",
    "    \n",
    "    return(cluster, n_cluster, unclustered)"
   ]
  },
  {
   "cell_type": "code",
   "execution_count": 5,
   "id": "harmful-tuesday",
   "metadata": {},
   "outputs": [],
   "source": [
    "vectors = Vectors(\n",
    "    k = k, \n",
    "    split = split, \n",
    "    segment = segment, \n",
    "    quality = quality, \n",
    "    qualpos = qualpos, \n",
    "    segpos = segpos, \n",
    "    variable = variable)\n",
    "index, matrixl1 = vectors.calculateFrequence('A.fasta')"
   ]
  },
  {
   "cell_type": "code",
   "execution_count": 6,
   "id": "illegal-shannon",
   "metadata": {},
   "outputs": [],
   "source": [
    "pca = PCA(n_components = n_components)\n",
    "matrixpca = pca.fit_transform(matrixl1)\n",
    "variance = pca.explained_variance_ratio_.sum()"
   ]
  },
  {
   "cell_type": "code",
   "execution_count": 7,
   "id": "collected-resident",
   "metadata": {},
   "outputs": [],
   "source": [
    "matrixl2 = normalize(matrixpca, norm='l2')"
   ]
  },
  {
   "cell_type": "code",
   "execution_count": 68,
   "id": "90d24051-1bb1-4102-af81-6b65b050f3f9",
   "metadata": {},
   "outputs": [],
   "source": [
    "def get_elbow2(matrixl2):\n",
    "\n",
    "    nearest_neighbors = NearestNeighbors(n_neighbors=11)\n",
    "    neighbors = nearest_neighbors.fit(matrixl2)\n",
    "    distances, indices = neighbors.kneighbors(matrixl2)\n",
    "\n",
    "    distances = np.sort(distances[:,10], axis=0)\n",
    "    i = np.arange(len(distances))\n",
    "    knee = KneeLocator(i, distances, S=10, curve='convex', direction='increasing', interp_method='polynomial')\n",
    "    knee.plot_knee()\n",
    "    \n",
    "    return(distances[knee.knee].item())"
   ]
  },
  {
   "cell_type": "code",
   "execution_count": 69,
   "id": "cbc2d775-a48c-46e4-9c13-c93cf7fdf572",
   "metadata": {},
   "outputs": [
    {
     "data": {
      "image/png": "[encoded data removed]",
      "text/plain": [
       "<Figure size 432x432 with 1 Axes>"
      ]
     },
     "metadata": {
      "needs_background": "light"
     },
     "output_type": "display_data"
    }
   ],
   "source": [
    "#linkage, elbow, epsilon_best, n_cluster_raw, n_cluster_norm = get_elbow(matrixl2, index, min_clust, sample, kneedle)\n",
    "epsilon_best = get_elbow2(matrixl2)"
   ]
  },
  {
   "cell_type": "code",
   "execution_count": 70,
   "id": "3d19dd9f-dfcb-4293-8ef1-ba98ef5fbce9",
   "metadata": {},
   "outputs": [
    {
     "data": {
      "text/plain": [
       "0.06878988444805145"
      ]
     },
     "execution_count": 70,
     "metadata": {},
     "output_type": "execute_result"
    }
   ],
   "source": [
    "epsilon_best"
   ]
  },
  {
   "cell_type": "code",
   "execution_count": 63,
   "id": "a99bcf89-5dd5-45c9-b33a-6d1ecfa949c8",
   "metadata": {},
   "outputs": [],
   "source": [
    "cluster, n_cluster, unclustered = get_cluster(epsilon_best, matrixl2, index, min_clust, 2)"
   ]
  },
  {
   "cell_type": "code",
   "execution_count": 64,
   "id": "f04c9555-0f1e-4937-946e-d965c031cacb",
   "metadata": {},
   "outputs": [
    {
     "name": "stdout",
     "output_type": "stream",
     "text": [
      "786 1079\n"
     ]
    }
   ],
   "source": [
    "print(n_cluster, unclustered)"
   ]
  },
  {
   "cell_type": "code",
   "execution_count": 10,
   "id": "c618636a-cd74-4204-804a-a78d28552645",
   "metadata": {},
   "outputs": [],
   "source": [
    "cluster.to_csv('cluster.csv', index=True, header=True, sep=',', mode='w')\n",
    "linkage.to_csv('linkage.csv', index=True, header=True, sep=',', mode='w')"
   ]
  },
  {
   "cell_type": "code",
   "execution_count": 12,
   "id": "520d8e43-4f79-4c41-8d8f-de0598e4ad2e",
   "metadata": {},
   "outputs": [],
   "source": [
    "pd.DataFrame(matrixl2, index = index).to_csv('matrixl2.csv', index=True, header=True, sep=',', mode='w')"
   ]
  },
  {
   "cell_type": "code",
   "execution_count": null,
   "id": "48ab2c5f-3b98-4084-b9e6-dd35e3eb4c0d",
   "metadata": {},
   "outputs": [],
   "source": []
  }
 ],
 "metadata": {
  "kernelspec": {
   "display_name": "Python 3",
   "language": "python",
   "name": "python3"
  },
  "language_info": {
   "codemirror_mode": {
    "name": "ipython",
    "version": 3
   },
   "file_extension": ".py",
   "mimetype": "text/x-python",
   "name": "python",
   "nbconvert_exporter": "python",
   "pygments_lexer": "ipython3",
   "version": "3.8.6"
  }
 },
 "nbformat": 4,
 "nbformat_minor": 5
}
