{
 "cells": [
  {
   "cell_type": "code",
   "execution_count": 5,
   "id": "b48fd24f-07a6-45bd-b9e2-93dfe370eeab",
   "metadata": {},
   "outputs": [
    {
     "data": {
      "text/latex": [
       "\n",
       "\\includegraphics[width = \\textwidth]{}\n",
       "\n",
       "The equation used depends on whether the the value of  \n",
       "$Vmax$ is R, G, or B.  \n"
      ],
      "text/plain": [
       "<IPython.core.display.Latex object>"
      ]
     },
     "metadata": {},
     "output_type": "display_data"
    }
   ],
   "source": [
    "%%latex\n",
    "\n",
    "The equation used depends on whether the the value of  \n",
    "$Vmax$ is R, G, or B.  "
   ]
  },
  {
   "cell_type": "code",
   "execution_count": 16,
   "id": "8547cebd-d198-4cb8-8457-23a8f9b50916",
   "metadata": {},
   "outputs": [],
   "source": [
    "import hdbscan\n",
    "from sklearn.datasets import make_blobs\n",
    "import pandas as pd\n",
    "from sklearn.ensemble import RandomForestClassifier as rf "
   ]
  },
  {
   "cell_type": "code",
   "execution_count": 19,
   "id": "26bb1a1a-69f1-426b-a644-2a32480645de",
   "metadata": {},
   "outputs": [],
   "source": [
    "def calculate_SSE(data):\n",
    "    y_hat = model.predict(X)\n",
    "    resid = y - y_hat\n",
    "    sse = sum(resid**2)\n",
    "    return(sse)"
   ]
  },
  {
   "cell_type": "code",
   "execution_count": 9,
   "id": "871ba650-8c1f-4eb0-8f9a-cfbecb6c47b9",
   "metadata": {},
   "outputs": [],
   "source": [
    "#k = number of variables\n",
    "#n = number of observations\n",
    "def calculate_AIC(sse, k, n):\n",
    "    aic = 2*k - 2*ln(sse)\n",
    "    return(aic)"
   ]
  },
  {
   "cell_type": "code",
   "execution_count": 11,
   "id": "7b39317b-885c-412c-8256-ab5bb4a3ad0f",
   "metadata": {},
   "outputs": [],
   "source": [
    "def calculate_BIC(sse, k, n):\n",
    "    bic = n*ln(sse/n) + k*ln(n)\n",
    "    return(bic)"
   ]
  },
  {
   "cell_type": "code",
   "execution_count": 10,
   "id": "61bc6ee0-4b29-40be-9d46-53c8ca6432f7",
   "metadata": {},
   "outputs": [],
   "source": [
    "blobs, labels = make_blobs(n_samples=2000, n_features=10)"
   ]
  },
  {
   "cell_type": "code",
   "execution_count": 12,
   "id": "f7c5f07f-ddde-4d39-b808-1b2b36faff39",
   "metadata": {},
   "outputs": [
    {
     "data": {
      "text/plain": [
       "array([1, 2, 1, ..., 0, 2, 1])"
      ]
     },
     "execution_count": 12,
     "metadata": {},
     "output_type": "execute_result"
    }
   ],
   "source": [
    "clusterer = hdbscan.HDBSCAN()\n",
    "clusterer.fit(blobs)\n",
    "clusterer.labels_"
   ]
  },
  {
   "cell_type": "code",
   "execution_count": 20,
   "id": "a2db1342-9332-449e-9737-c4306e990711",
   "metadata": {},
   "outputs": [
    {
     "ename": "NameError",
     "evalue": "name 'model' is not defined",
     "output_type": "error",
     "traceback": [
      "\u001b[0;31m---------------------------------------------------------------------------\u001b[0m",
      "\u001b[0;31mNameError\u001b[0m                                 Traceback (most recent call last)",
      "Input \u001b[0;32mIn [20]\u001b[0m, in \u001b[0;36m<module>\u001b[0;34m\u001b[0m\n\u001b[0;32m----> 1\u001b[0m \u001b[43mcalculate_SSE\u001b[49m\u001b[43m(\u001b[49m\u001b[43mblobs\u001b[49m\u001b[43m)\u001b[49m\n",
      "Input \u001b[0;32mIn [19]\u001b[0m, in \u001b[0;36mcalculate_SSE\u001b[0;34m(data)\u001b[0m\n\u001b[1;32m      1\u001b[0m \u001b[38;5;28;01mdef\u001b[39;00m \u001b[38;5;21mcalculate_SSE\u001b[39m(data):\n\u001b[0;32m----> 2\u001b[0m     y_hat \u001b[38;5;241m=\u001b[39m \u001b[43mmodel\u001b[49m\u001b[38;5;241m.\u001b[39mpredict(X)\n\u001b[1;32m      3\u001b[0m     resid \u001b[38;5;241m=\u001b[39m y \u001b[38;5;241m-\u001b[39m y_hat\n\u001b[1;32m      4\u001b[0m     sse \u001b[38;5;241m=\u001b[39m \u001b[38;5;28msum\u001b[39m(resid\u001b[38;5;241m*\u001b[39m\u001b[38;5;241m*\u001b[39m\u001b[38;5;241m2\u001b[39m)\n",
      "\u001b[0;31mNameError\u001b[0m: name 'model' is not defined"
     ]
    }
   ],
   "source": [
    "calculate_SSE(blobs)"
   ]
  },
  {
   "cell_type": "code",
   "execution_count": null,
   "id": "328b133f-f8e4-4dd2-b1bd-204cc46daa9f",
   "metadata": {},
   "outputs": [],
   "source": []
  }
 ],
 "metadata": {
  "kernelspec": {
   "display_name": "Python 3 (ipykernel)",
   "language": "python",
   "name": "python3"
  },
  "language_info": {
   "codemirror_mode": {
    "name": "ipython",
    "version": 3
   },
   "file_extension": ".py",
   "mimetype": "text/x-python",
   "name": "python",
   "nbconvert_exporter": "python",
   "pygments_lexer": "ipython3",
   "version": "3.9.9"
  }
 },
 "nbformat": 4,
 "nbformat_minor": 5
}
