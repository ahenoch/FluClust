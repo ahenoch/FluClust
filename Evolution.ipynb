{
 "cells": [
  {
   "cell_type": "markdown",
   "id": "spectacular-fashion",
   "metadata": {},
   "source": [
    "# K-mer Evolution Notebook\n",
    "\n",
    "- HDBSCAN github errors!\n",
    "    - need to find version without problems\n",
    "    - if now finding one revert back to MA version\n",
    "- better inclusion of R, N, ... in the kmer\n",
    "    - status: finished\n",
    "- evolution on reading frame\n",
    "    - difficult, ORF notebook necessary for it\n",
    "- status: unfinished"
   ]
  },
  {
   "cell_type": "code",
   "execution_count": 1,
   "id": "upper-primary",
   "metadata": {},
   "outputs": [],
   "source": [
    "from kneed import DataGenerator, KneeLocator\n",
    "import matplotlib.pyplot as plt\n",
    "import numpy as np\n",
    "import pandas as pd\n",
    "import itertools as it\n",
    "from Bio import SeqIO\n",
    "from Bio.Seq import Seq\n",
    "import math\n",
    "import re\n",
    "from sklearn.preprocessing import normalize\n",
    "from sklearn.decomposition import PCA\n",
    "import hdbscan\n",
    "from scipy.signal import savgol_filter"
   ]
  },
  {
   "cell_type": "code",
   "execution_count": 2,
   "id": "flexible-layout",
   "metadata": {},
   "outputs": [],
   "source": [
    "class Frequency(object):\n",
    "    \n",
    "    def __init__(self, k = 7, split = None, segment = None, quality = None, qualpos = 0, segpos = 0, variable = 0.9):\n",
    "    \n",
    "        self.k = k\n",
    "        self.qualpos = qualpos\n",
    "        self.segpos = segpos\n",
    "        self.split = split\n",
    "        self.segment = segment\n",
    "        self.quality = quality\n",
    "        self.variable = variable\n",
    "        \n",
    "        self.nucleotides = ['A', 'C', 'G', 'T']\n",
    "        self.substit = dict.fromkeys(map(ord, self.nucleotides), None)\n",
    "        self.exist = dict.fromkeys(map(''.join, it.product(self.nucleotides, repeat = self.k)), 0)        \n",
    "        self.col = len(self.exist.keys())\n",
    "        \n",
    "        self.amino = {\n",
    "            'AAA':'K', 'AAC':'N', 'AAG':'K', 'AAT':'N',\n",
    "            'ACA':'T', 'ACC':'T', 'ACG':'T', 'ACT':'T',\n",
    "            'AGA':'R', 'AGC':'S', 'AGG':'R', 'AGT':'S',\n",
    "            'ATA':'I', 'ATC':'I', 'ATG':'M', 'ATT':'I',\n",
    "            'CAA':'Q', 'CAC':'H', 'CAG':'Q', 'CAT':'H',\n",
    "            'CCA':'P', 'CCC':'P', 'CCG':'P', 'CCT':'P',\n",
    "            'CGA':'R', 'CGC':'R', 'CGG':'R', 'CGT':'R',\n",
    "            'CTA':'L', 'CTC':'L', 'CTG':'L', 'CTT':'L',\n",
    "            'GAA':'E', 'GAC':'D', 'GAG':'E', 'GAT':'D',\n",
    "            'GCA':'A', 'GCC':'A', 'GCG':'A', 'GCT':'A',\n",
    "            'GGA':'G', 'GGC':'G', 'GGG':'G', 'GGT':'G',\n",
    "            'GTA':'V', 'GTC':'V', 'GTG':'V', 'GTT':'V',    \n",
    "            'TAA':'Y', 'TAC':'*', 'TAG':'*', 'TAT':'Y',\n",
    "            'TCA':'S', 'TCC':'S', 'TCG':'S', 'TCT':'S',\n",
    "            'TGA':'*', 'TGC':'C', 'TGG':'W', 'TGT':'C',\n",
    "            'TTA':'L', 'TTC':'F', 'TTG':'L', 'TTT':'F',\n",
    "        }\n",
    "        self.nucex = {\n",
    "            'A':['A'],\n",
    "            'C':['C'],\n",
    "            'G':['G'],\n",
    "            'T':['T'],\n",
    "            'R':['A', 'G'],\n",
    "            'Y':['C', 'T'],\n",
    "            'W':['A', 'T'],\n",
    "            'S':['C', 'G'],\n",
    "            'M':['A', 'C'],\n",
    "            'K':['G', 'T'],\n",
    "            'B':['G', 'C', 'T'],\n",
    "            'H':['A', 'C', 'T'],\n",
    "            'D':['A', 'G', 'T'],\n",
    "            'V':['A', 'C', 'G'],\n",
    "            'N':['A', 'C', 'G', 'T'],\n",
    "        } \n",
    "        self.nucmut = {\n",
    "            'A':['C', 'G', 'T'],\n",
    "            'C':['A', 'G', 'T'],\n",
    "            'G':['A', 'C', 'T'],\n",
    "            'T':['A', 'C', 'G'],\n",
    "        } \n",
    "    \n",
    "    def checkup(self, name):\n",
    "        \n",
    "        try:\n",
    "            if self.segment and self.quality:    \n",
    "                head = name.split(self.split)\n",
    "                if re.match(self.segment, head[self.segpos], re.IGNORECASE) and re.match(self.quality, head[self.qualpos], re.IGNORECASE):\n",
    "                    return(True)\n",
    "                else:\n",
    "                    return(False)\n",
    "\n",
    "            elif self.segment or self.quality:\n",
    "                head = name.split(self.split)\n",
    "                \n",
    "                if e.match(self.segment, head[self.segpos], re.IGNORECASE) or re.match(self.quality, head[self.qualpos], re.IGNORECASE):\n",
    "                    return(True)\n",
    "                else:\n",
    "                    return(False)\n",
    "\n",
    "            else:\n",
    "                return(True)\n",
    "        except:\n",
    "            return(False)\n",
    "            \n",
    "    def countRows(self, infile):\n",
    "        \n",
    "        row = 0\n",
    "        for entry in SeqIO.parse(infile,'fasta'):\n",
    "            \n",
    "            name = entry.name\n",
    "            sequence = str(entry.seq)\n",
    "            missing = len(sequence.translate(self.substit))\n",
    "            fracture = float(len(sequence)/missing) if missing else 0 \n",
    "            \n",
    "            if self.checkup(name) == True and fracture <= self.variable:\n",
    "                row += 1\n",
    "                \n",
    "        return(row)\n",
    "    \n",
    "    def calculateFrequence(self, infile):\n",
    "        \n",
    "        row = self.countRows(infile)\n",
    "        index = np.empty(row, dtype = 'object')\n",
    "        matrix = np.empty((row, self.col, ),dtype = 'float32')\n",
    "        \n",
    "        pos = 0\n",
    "        for entry in SeqIO.parse(infile,'fasta'):\n",
    "            \n",
    "            name = entry.name\n",
    "            sequence = str(entry.seq)\n",
    "            accession = name.split(self.split)[0]\n",
    "            missing = len(sequence.translate(self.substit))\n",
    "            fracture = float(len(sequence)/missing) if missing else 0 \n",
    "            \n",
    "            if self.checkup(name) == True and fracture <= self.variable:\n",
    "                for i in range(len(sequence) - self.k + 1):\n",
    "                    \n",
    "                    kmer = sequence[i:i+self.k]\n",
    "                    \n",
    "                    if fracture == 0:\n",
    "                        main = [kmer]\n",
    "                        size = 1\n",
    "                    else:\n",
    "                        main = map(''.join, it.product(*[self.nucex.get(j) for j in kmer]))\n",
    "                        size = np.prod([len(self.nucex.get(k)) for k in kmer])\n",
    "                        \n",
    "                    for sub in main:\n",
    "                        self.exist[sub] += float(1/size)\n",
    "                    #    self.exist[sub] += float((1-self.mutfac)/size)     \n",
    "                    #    for l, nuc in enumerate(sub):\n",
    "                    #        for mutation in map(''.join, it.product(*[[sub[:l]], self.nucmut.get(nuc), [sub[l+1:]]])):\n",
    "                    #            self.exist[mutation] += float(self.mutfac/(size*12))\n",
    "\n",
    "                matrix[pos] = np.fromiter(self.exist.values(), dtype = 'float32', count = self.col)/sum(self.exist.values())\n",
    "                index[pos] = accession\n",
    "                \n",
    "                self.exist.update((k,0) for k in self.exist.keys())\n",
    "                pos += 1\n",
    "            \n",
    "        return(index, matrix)"
   ]
  },
  {
   "cell_type": "code",
   "execution_count": 3,
   "id": "focal-ranking",
   "metadata": {},
   "outputs": [],
   "source": [
    "freq = Frequency(\n",
    "    k = 7, \n",
    "    split = '|', \n",
    "    segment = '4', \n",
    "    quality = 'Pass', \n",
    "    qualpos = 8, \n",
    "    segpos = 2, \n",
    "    variable = 0.9)\n",
    "index, matrixl1 = freq.calculateFrequence('A.fasta')"
   ]
  },
  {
   "cell_type": "code",
   "execution_count": 4,
   "id": "happy-vegetarian",
   "metadata": {},
   "outputs": [],
   "source": [
    "pca = PCA(n_components=50)\n",
    "matrixpca = pca.fit_transform(matrixl1)\n",
    "variance = pca.explained_variance_ratio_.sum()"
   ]
  },
  {
   "cell_type": "code",
   "execution_count": 5,
   "id": "grateful-savings",
   "metadata": {},
   "outputs": [],
   "source": [
    "matrixl2 = normalize(matrixpca, norm='l2')"
   ]
  },
  {
   "cell_type": "code",
   "execution_count": 6,
   "id": "necessary-essence",
   "metadata": {},
   "outputs": [],
   "source": [
    "hdbhierarch = hdbscan.HDBSCAN(\n",
    "    min_samples = 1,\n",
    "    min_cluster_size = 2,\n",
    "    gen_min_span_tree=True,\n",
    "    metric = 'euclidean',\n",
    ").fit(matrixl2)\n",
    "\n",
    "pdlink = hdbhierarch.single_linkage_tree_.to_pandas()\n",
    "label = hdbhierarch.labels_"
   ]
  },
  {
   "cell_type": "code",
   "execution_count": 8,
   "id": "convinced-bunch",
   "metadata": {},
   "outputs": [],
   "source": [
    "def getClusternumber (pdlink, t = 500, l = 10, savgol = True, w = 50):\n",
    "\n",
    "    nplink = pdlink.drop(columns=['parent']).to_numpy()\n",
    "    \n",
    "    y = nplink[:, 2][::-1][:t]\n",
    "    x = np.arange(1, len(y) + 1)\n",
    "    \n",
    "    if savgol == True:\n",
    "        yhat = savgol_filter(y, w+1, 3)\n",
    "        #ynorm = yhat / yhat.max()\n",
    "        ynorm = yhat\n",
    "    \n",
    "    else:\n",
    "        #ynorm = y / y.max()\n",
    "        ynorm = y\n",
    "    \n",
    "    xnorm = x\n",
    "    #xnorm = x / x.max()\n",
    "    l = 1\n",
    "    zsize = len(ynorm)\n",
    "    z = np.empty(zsize, dtype = 'float32')\n",
    "    z[:l] = -1\n",
    "    z[zsize-l:] = -1\n",
    "\n",
    "    for i in range(l,zsize-l):\n",
    "\n",
    "        a = np.array([xnorm[i-l], ynorm[i-l]])\n",
    "        b = np.array([xnorm[i], ynorm[i]])\n",
    "        c = np.array([xnorm[i+l], ynorm[i+l]])\n",
    "\n",
    "        ba = a - b\n",
    "        bc = c - b\n",
    "\n",
    "        cosine_angle = np.dot(ba, bc) / (np.linalg.norm(ba) * np.linalg.norm(bc))\n",
    "        #angle = np.arccos(cosine_angle)\n",
    "        z[i] = cosine_angle#np.degrees(angle)\n",
    "        \n",
    "    return(z.max(), z.argmax())"
   ]
  },
  {
   "cell_type": "code",
   "execution_count": 9,
   "id": "complimentary-qatar",
   "metadata": {},
   "outputs": [
    {
     "data": {
      "text/plain": [
       "(-0.9999896, 25)"
      ]
     },
     "execution_count": 9,
     "metadata": {},
     "output_type": "execute_result"
    }
   ],
   "source": [
    "getClusternumber(pdlink , t = 1000)"
   ]
  },
  {
   "cell_type": "code",
   "execution_count": 10,
   "id": "prepared-rescue",
   "metadata": {},
   "outputs": [],
   "source": [
    "nplink = pdlink.drop(columns=['parent']).to_numpy()\n",
    "\n",
    "y = nplink[:, 2][::-1]\n",
    "x = np.arange(1, len(y) + 1)"
   ]
  },
  {
   "cell_type": "code",
   "execution_count": 11,
   "id": "republican-state",
   "metadata": {},
   "outputs": [
    {
     "name": "stdout",
     "output_type": "stream",
     "text": [
      "0.10264853852438559 0.1023291738217375 0.10206920019875247\n"
     ]
    }
   ],
   "source": [
    "print(y[916], y[926], y[936])"
   ]
  },
  {
   "cell_type": "code",
   "execution_count": 12,
   "id": "educated-lafayette",
   "metadata": {},
   "outputs": [
    {
     "name": "stdout",
     "output_type": "stream",
     "text": [
      "0.48268261852606215 0.4225595431517627 0.337130700332617\n"
     ]
    }
   ],
   "source": [
    "print(y[20], y[30], y[40])"
   ]
  },
  {
   "cell_type": "code",
   "execution_count": 13,
   "id": "comfortable-synthesis",
   "metadata": {},
   "outputs": [
    {
     "name": "stdout",
     "output_type": "stream",
     "text": [
      "0.2567163170768908 0.24247499292760816 0.23565083972962558\n"
     ]
    }
   ],
   "source": [
    "print(y[64], y[74], y[84])"
   ]
  },
  {
   "cell_type": "code",
   "execution_count": 14,
   "id": "textile-plaintiff",
   "metadata": {},
   "outputs": [
    {
     "data": {
      "text/plain": [
       "-0.8844115089390092"
      ]
     },
     "execution_count": 14,
     "metadata": {},
     "output_type": "execute_result"
    }
   ],
   "source": [
    "a = np.array([0, 0.35])\n",
    "b = np.array([1, 0.5])\n",
    "c = np.array([2, 0.15])\n",
    "\n",
    "ba = a - b\n",
    "bc = c - b\n",
    "\n",
    "np.dot(ba, bc) / (np.linalg.norm(ba) * np.linalg.norm(bc))"
   ]
  },
  {
   "cell_type": "code",
   "execution_count": 17,
   "id": "hungry-indie",
   "metadata": {},
   "outputs": [],
   "source": [
    "cluster_df = matrixl2\n",
    "\n",
    "# parameter tuning for eps\n",
    "from sklearn.neighbors import NearestNeighbors\n",
    "from kneed import KneeLocator\n",
    "\n",
    "nearest_neighbors = NearestNeighbors(n_neighbors=11)\n",
    "neighbors = nearest_neighbors.fit(cluster_df)\n",
    "distances, indices = neighbors.kneighbors(cluster_df)\n",
    "distances = np.sort(distances[:,10], axis=0)\n",
    "i = np.arange(len(distances))"
   ]
  },
  {
   "cell_type": "code",
   "execution_count": 19,
   "id": "banned-duncan",
   "metadata": {},
   "outputs": [
    {
     "data": {
      "text/plain": [
       "Text(0, 0.5, 'Distance')"
      ]
     },
     "execution_count": 19,
     "metadata": {},
     "output_type": "execute_result"
    },
    {
     "data": {
      "text/plain": [
       "<Figure size 360x360 with 0 Axes>"
      ]
     },
     "metadata": {},
     "output_type": "display_data"
    },
    {
     "data": {
      "image/png": "[encoded data removed]",
      "text/plain": [
       "<Figure size 432x432 with 1 Axes>"
      ]
     },
     "metadata": {
      "needs_background": "light"
     },
     "output_type": "display_data"
    }
   ],
   "source": [
    "knee = KneeLocator(i, distances, S=1, curve='convex', direction='increasing', interp_method='polynomial')\n",
    "fig = plt.figure(figsize=(5, 5))\n",
    "knee.plot_knee()\n",
    "plt.xlabel(\"Points\")\n",
    "plt.ylabel(\"Distance\")"
   ]
  },
  {
   "cell_type": "code",
   "execution_count": 645,
   "id": "white-termination",
   "metadata": {},
   "outputs": [
    {
     "name": "stdout",
     "output_type": "stream",
     "text": [
      "0.068784796\n"
     ]
    }
   ],
   "source": [
    "print(distances[knee.knee])"
   ]
  },
  {
   "cell_type": "code",
   "execution_count": null,
   "id": "identical-congress",
   "metadata": {},
   "outputs": [],
   "source": []
  }
 ],
 "metadata": {
  "kernelspec": {
   "display_name": "Python 3",
   "language": "python",
   "name": "python3"
  },
  "language_info": {
   "codemirror_mode": {
    "name": "ipython",
    "version": 3
   },
   "file_extension": ".py",
   "mimetype": "text/x-python",
   "name": "python",
   "nbconvert_exporter": "python",
   "pygments_lexer": "ipython3",
   "version": "3.8.6"
  }
 },
 "nbformat": 4,
 "nbformat_minor": 5
}
