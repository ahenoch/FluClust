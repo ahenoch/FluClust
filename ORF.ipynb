{
 "cells": [
  {
   "cell_type": "code",
   "execution_count": 235,
   "id": "bb48db61-499c-483a-a761-524ec1806159",
   "metadata": {},
   "outputs": [],
   "source": [
    "from Bio import SeqIO\n",
    "from Bio.Seq import Seq"
   ]
  },
  {
   "cell_type": "code",
   "execution_count": 407,
   "id": "b749ad6b-d449-4a0c-a95f-e295ee8f3419",
   "metadata": {},
   "outputs": [],
   "source": [
    "def getORFDensity (acid,a,b,c,i):\n",
    "    \n",
    "    if acid == '+':\n",
    "        if i-b <= c and b > 0:\n",
    "            return(i,b,i-b)\n",
    "        else:\n",
    "            return(i,b,c)\n",
    "          \n",
    "    elif acid == '-':\n",
    "        return(a,i,c)\n",
    "    \n",
    "    else: \n",
    "        return(a,b,c)"
   ]
  },
  {
   "cell_type": "code",
   "execution_count": 418,
   "id": "46d723eb-93e0-467c-918a-66d2c610f425",
   "metadata": {},
   "outputs": [],
   "source": [
    "def getReadingframe (sequence):\n",
    "\n",
    "    aminostr = {\n",
    "        'ATG':'+', 'TAC':'-', 'TAG':'-', 'TGA':'-',\n",
    "    }\n",
    "    aminorev = {\n",
    "        'CAT':'+', 'GTA':'-', 'CTA':'-', 'TCA':'-',\n",
    "    }\n",
    "    \n",
    "    seq = str(sequence)\n",
    "    rev = str(sequence.reverse_complement())\n",
    "\n",
    "    i = 0\n",
    "    cs1 = cs2 = cs3 = len(seq)\n",
    "    cr1 = cr2 = cr3 = len(rev)\n",
    "    as1 = bs1 = as2 = bs2 = as3 = bs3 = 0\n",
    "    ar1 = br1 = ar2 = br2 = ar3 = br3 = 0\n",
    "\n",
    "    while i <= len(sequence)-2:\n",
    "        as1,bs1,cs1 = getORFDensity(aminostr.get(seq[i+0:i+3], ''),as1,bs1,cs1,i+0)\n",
    "        as2,bs2,cs2 = getORFDensity(aminostr.get(seq[i+1:i+4], ''),as2,bs2,cs2,i+1)\n",
    "        as3,bs3,cs3 = getORFDensity(aminostr.get(seq[i+2:i+5], ''),as3,bs3,cs3,i+2)\n",
    "        ar1,br1,cr1 = getORFDensity(aminorev.get(rev[i+0:i+3], ''),ar1,br1,cr1,i+0)\n",
    "        ar2,br2,cr2 = getORFDensity(aminorev.get(rev[i+1:i+4], ''),ar2,br2,cr2,i+1)\n",
    "        ar3,br3,cr3 = getORFDensity(aminorev.get(rev[i+2:i+5], ''),ar3,br3,cr3,i+2)\n",
    "\n",
    "        i += 3\n",
    "        \n",
    "    print(cs1, cs2, cs3, cr1, cr2, cr3)"
   ]
  },
  {
   "cell_type": "code",
   "execution_count": 337,
   "id": "67856bf3-623c-4bad-8a0c-f2692703c563",
   "metadata": {},
   "outputs": [],
   "source": [
    "entry = SeqIO.parse('A.fasta','fasta')"
   ]
  },
  {
   "cell_type": "code",
   "execution_count": 426,
   "id": "695485ce-6990-4d8c-a545-221b40e27967",
   "metadata": {},
   "outputs": [],
   "source": [
    "sequence = next(entry).seq\n",
    "header = next(entry).name"
   ]
  },
  {
   "cell_type": "code",
   "execution_count": 427,
   "id": "7e05dc19-7a16-485b-8d19-6590a5489e1a",
   "metadata": {},
   "outputs": [
    {
     "name": "stdout",
     "output_type": "stream",
     "text": [
      "CY063611|A/Aalborg/INS133/2009|3|PA|A|H1N1|12/02/2009|Human|Pass|09_10|Denmark|NA\n"
     ]
    }
   ],
   "source": [
    "print(header)"
   ]
  },
  {
   "cell_type": "code",
   "execution_count": 428,
   "id": "5fbd01c3-c83d-44d3-983d-9a64279a4456",
   "metadata": {},
   "outputs": [
    {
     "name": "stdout",
     "output_type": "stream",
     "text": [
      "6 24 3 12 3 9\n"
     ]
    }
   ],
   "source": [
    "getReadingframe(sequence)"
   ]
  },
  {
   "cell_type": "code",
   "execution_count": 429,
   "id": "5da59c6c-31a4-48fe-8630-5ca8607287ec",
   "metadata": {},
   "outputs": [
    {
     "name": "stdout",
     "output_type": "stream",
     "text": [
      "[14][stop][9][start][37][start][12][start][12][stop][7][start][7][stop][14][stop][12][stop][2][stop][7][start][3][stop][8][start][13][start][17][stop][8][start][6][stop][0][stop][1][stop][82][stop][6][stop][49][stop][10][stop][9][start][7][stop][16][stop][2][stop][7][stop][3][stop][23][stop][0][stop][18][stop][14][stop][18][stop][4][start][13][stop][60][stop][1][start]\n",
      "[10][stop][12][start][10][start][11][stop][3][start][6][start][6][start][1][start][2][start][13][start][3][start][11][start][14][start][4][start][2][stop][12][start][23][start][73][start][80][start][2][start][4][start][5][start][4][stop][13][start][3][stop][13][stop][22][start][1][stop][9][start][12][start][6][start][6][start][14][stop][3][start][11][stop][10][stop][48][stop][58][start]\n",
      "[4][start][93][stop][12][stop][53][stop][12][stop][6][stop][40][stop][20][start][2][stop][26][start][86][start][4][stop][36][start][34][stop][15][stop][30][stop][7][start][9][stop][2][stop][21][stop][25][start][14][stop]\n",
      "[9][start][12][stop][25][start][26][start][27][start][51][stop][52][start][68][stop][71][stop][2][stop][12][stop][3][start][4][stop][14][stop][23][stop][32][stop][33][stop][41][start][52][start][5][start][1][stop][6][start][10][stop][16][stop][25][stop][26][start][10][stop][12][start][18][start][0][stop][11][start][19][stop][26][stop][29][start][31][start][45][start][46][start][52][start][59][start][65][start][81][stop][83][stop][85][stop][20][stop][36][start][12][stop][24][stop][10][start][1][stop][12][stop][0][start][14][start][2][stop][5][start][6][start][9][start][17][stop][20][start][0][stop][10][start][11][start][12][start][0][start]\n",
      "[4][stop][2][stop][0][stop][0][stop][9][start][5][stop][2][start][7][stop][2][stop][0][stop][2][start][9][stop][13][stop][39][start][10][start][6][stop][20][start][11][start][12][stop][15][start][26][start][1][start][1][start][15][stop][5][stop][6][stop][5][stop][0][stop][13][stop][1][stop][2][start][6][start][34][stop][10][start][5][stop][5][stop][1][start][24][stop][0][start][8][start][5][start][3][stop][4][start][15][stop][6][stop][10][stop][7][start][0][start][8][start][8][start][9][start][0][stop][3][start][9][start][24][start][2][start][15][stop][0][start][23][stop][0][stop][0][stop][12][start][2][stop]\n",
      "[0][start][0][stop][2][start][0][start][3][start][13][stop][21][start][1][start][10][start][12][stop][20][start][25][stop][19][stop][0][start][3][stop][10][start][1][start][8][start][5][start][3][start][2][start][9][stop]\n"
     ]
    }
   ],
   "source": [
    "##ONLY FOR TESTING CELL ### DELETE AFTER\n",
    "\n",
    "aminostr = {\n",
    "    'ATG':'[start]', 'TAC':'[stop]', 'TAG':'[stop]', 'TGA':'[stop]',\n",
    "}\n",
    "aminorev = {\n",
    "    'CAT':'[stop]', 'GTA':'[start]', 'CTA':'[start]', 'TCA':'[start]',\n",
    "}\n",
    "\n",
    "for l in [0,1,2]:\n",
    "    x1 = ''\n",
    "    x2 = ''\n",
    "    y = str(sequence)\n",
    "    z = str(sequence.reverse_complement())\n",
    "    c = 0\n",
    "    d = 0\n",
    "    k = 0 + l\n",
    "\n",
    "    while k <= len(y):\n",
    "\n",
    "        if aminostr.get(y[k:k+3], '') != '':\n",
    "            x1 += '[' + str(c) + ']' + aminostr.get(y[k:k+3])\n",
    "            c = 0\n",
    "        else:\n",
    "            c += 1\n",
    "\n",
    "        if aminorev.get(z[k:k+3], '') != '':\n",
    "            x2 += '[' + str(c) + ']' + aminorev.get(z[k:k+3])\n",
    "            d = 0\n",
    "        else:\n",
    "            d += 1\n",
    "\n",
    "        k = k + 3\n",
    "\n",
    "    print(x1)\n",
    "    print(x2)"
   ]
  },
  {
   "cell_type": "code",
   "execution_count": null,
   "id": "b9be235e-fd67-4564-9fee-b3e092371317",
   "metadata": {},
   "outputs": [],
   "source": []
  }
 ],
 "metadata": {
  "kernelspec": {
   "display_name": "Python 3 (ipykernel)",
   "language": "python",
   "name": "python3"
  },
  "language_info": {
   "codemirror_mode": {
    "name": "ipython",
    "version": 3
   },
   "file_extension": ".py",
   "mimetype": "text/x-python",
   "name": "python",
   "nbconvert_exporter": "python",
   "pygments_lexer": "ipython3",
   "version": "3.9.7"
  }
 },
 "nbformat": 4,
 "nbformat_minor": 5
}
