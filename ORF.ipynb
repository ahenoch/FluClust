{
 "cells": [
  {
   "cell_type": "markdown",
   "id": "fbf41469-ff56-4c21-886d-dd775d640807",
   "metadata": {},
   "source": [
    "# ORF Density Notebook\n",
    "\n",
    "- status: finished\n",
    "- implementation for evolution necessary\n",
    "- could also be necessary for better positional k-mers\n",
    "- no real knowledge gained!!\n",
    "- discussing with manja again\n",
    "- other idea:\n",
    "    - Kozaki Sequence Probability (ORF Start/non-ORF Start)\n",
    "    - Frameshift Probability (Start, Stop anderer Frame) \n",
    "    - All Stop/Start Positions plus Frame \n",
    "    - Prediction by prior knowledge \n",
    "        - eg. 3 proteins, 2 shifts and 1 alternative init (kozaki)\n",
    "        - calculate best 3 and weight probabilitys by occurence of events\n",
    "        - alternative splicing completely unimportant\n",
    "        - only the protein frames with shifts and alternative inits important\n",
    "\n",
    "![ORF](ORF.svg)"
   ]
  },
  {
   "cell_type": "code",
   "execution_count": 235,
   "id": "unlimited-prevention",
   "metadata": {},
   "outputs": [],
   "source": [
    "from Bio import SeqIO\n",
    "from Bio.Seq import Seq"
   ]
  },
  {
   "cell_type": "code",
   "execution_count": 630,
   "id": "therapeutic-disposition",
   "metadata": {},
   "outputs": [],
   "source": [
    "def getReadingframe (seq):\n",
    "\n",
    "    aminostr = {\n",
    "        'ATG':'+', 'TAA':'-', 'TAG':'-', 'TGA':'-',\n",
    "    }\n",
    "    # aminorev = {\n",
    "    #     'CAT':'-', 'TTA':'+', 'CTA':'+', 'TCA':'+',\n",
    "    # }\n",
    "    \n",
    "    i = 0\n",
    "    cs1 = cs2 = cs3 = len(seq)\n",
    "    as1 = bs1 = fs1 = gs1 = as2 = bs2 = fs2 = gs2 = as3 = bs3 = fs3 = gs3 = 0\n",
    "    # cr1 = cr2 = cr3 = len(seq)\n",
    "    # ar1 = br1 = ar2 = br2 = ar3 = br3 = 0\n",
    "\n",
    "    while i <= len(seq)-2:\n",
    "        as1,bs1,cs1,fs1,gs1 = getORFDensity(aminostr.get(seq[i+0:i+3], ''),as1,bs1,cs1,fs1,gs1,i+0)\n",
    "        as2,bs2,cs2,fs2,gs2 = getORFDensity(aminostr.get(seq[i+1:i+4], ''),as2,bs2,cs2,fs2,gs2,i+1)\n",
    "        as3,bs3,cs3,fs3,gs3 = getORFDensity(aminostr.get(seq[i+2:i+5], ''),as3,bs3,cs3,fs3,gs3,i+2)\n",
    "        # ar1,br1,cr1 = getORFDensity(aminorev.get(seq[i+0:i+3], ''),ar1,br1,cr1,i+0)\n",
    "        # ar2,br2,cr2 = getORFDensity(aminorev.get(seq[i+1:i+4], ''),ar2,br2,cr2,i+1)\n",
    "        # ar3,br3,cr3 = getORFDensity(aminorev.get(seq[i+2:i+5], ''),ar3,br3,cr3,i+2)\n",
    "\n",
    "        i += 3\n",
    "        \n",
    "    # print(cs1, cs2, cs3, cr1, cr2, cr3)\n",
    "    print(cs1, gs1, cs2, gs2, cs3, gs3)"
   ]
  },
  {
   "cell_type": "code",
   "execution_count": 671,
   "id": "parallel-medicare",
   "metadata": {},
   "outputs": [],
   "source": [
    "def getORFDensity (acid,a,b,c,f,g,i):\n",
    "    \n",
    "    #a: Startcodon position\n",
    "    #b: Stopcodon position\n",
    "    #c: smallest Stop-Start distance\n",
    "    #f: readingframe start\n",
    "    #g: longest readingframe distance\n",
    "    #i: position\n",
    "    \n",
    "    if acid == '+':\n",
    "        a = i \n",
    "        f = i if f == 0 else f\n",
    "        c = i-b if i-b <= c and b > 0 else c\n",
    "        #c = c+i-b if b > 0 else c\n",
    "          \n",
    "    elif acid == '-':\n",
    "        b = i\n",
    "        g = i-f if i-f >= g and f > 0 else g\n",
    "        f = 0 if f != 0 else f\n",
    "    \n",
    "    # print(a,b,c,f,g,i)\n",
    "    return(a,b,c,f,g)"
   ]
  },
  {
   "cell_type": "code",
   "execution_count": 465,
   "id": "pretty-savannah",
   "metadata": {},
   "outputs": [],
   "source": [
    "fasta = SeqIO.parse('A.fasta','fasta')"
   ]
  },
  {
   "cell_type": "code",
   "execution_count": 683,
   "id": "contemporary-reference",
   "metadata": {},
   "outputs": [
    {
     "name": "stdout",
     "output_type": "stream",
     "text": [
      "CY073729|A/Aalborg/INS283/2009|8|NS1|A|H1N1|12/07/2009|Human|Pass|09_10|Denmark|NA\n",
      "45 657 42 324 3 42\n"
     ]
    }
   ],
   "source": [
    "entry = next(fasta)\n",
    "sequence =  str(entry.seq)\n",
    "header = entry.name\n",
    "print(header)\n",
    "getReadingframe(sequence)"
   ]
  },
  {
   "cell_type": "raw",
   "id": "checked-measure",
   "metadata": {},
   "source": [
    "##ONLY FOR TESTING CELL \n",
    "### DELETE AFTER\n",
    "\n",
    "aminostr = {\n",
    "    'ATG':'[start]', 'TAA':'[stop]', 'TAG':'[stop]', 'TGA':'[stop]',\n",
    "}\n",
    "\n",
    "for l in [0,1,2]:\n",
    "    x1 = ''\n",
    "    x2 = ''\n",
    "    y = str(sequence)\n",
    "    c = 0\n",
    "    d = 0\n",
    "    k = 0 + l\n",
    "\n",
    "    while k <= len(y)-2:\n",
    "\n",
    "        if aminostr.get(y[k:k+3], '') != '':\n",
    "            x1 += '[' + str(c) + ']' + aminostr.get(y[k:k+3])\n",
    "            print(k, y[k:k+3], aminostr.get(y[k:k+3]))\n",
    "            c = 0\n",
    "        else:\n",
    "            c += 1\n",
    "\n",
    "        k = k + 3\n",
    "\n",
    "#print(x1)\n",
    "#print(x2)"
   ]
  },
  {
   "cell_type": "code",
   "execution_count": null,
   "id": "interpreted-network",
   "metadata": {},
   "outputs": [],
   "source": []
  }
 ],
 "metadata": {
  "kernelspec": {
   "display_name": "Python 3",
   "language": "python",
   "name": "python3"
  },
  "language_info": {
   "codemirror_mode": {
    "name": "ipython",
    "version": 3
   },
   "file_extension": ".py",
   "mimetype": "text/x-python",
   "name": "python",
   "nbconvert_exporter": "python",
   "pygments_lexer": "ipython3",
   "version": "3.8.6"
  }
 },
 "nbformat": 4,
 "nbformat_minor": 5
}
