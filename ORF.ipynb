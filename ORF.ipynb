{
 "cells": [
  {
   "cell_type": "markdown",
   "id": "fbf41469-ff56-4c21-886d-dd775d640807",
   "metadata": {
    "tags": []
   },
   "source": [
    "# ORF Density Notebook\n",
    "\n",
    "- status: finished\n",
    "- implementation for evolution necessary\n",
    "- could also be necessary for better positional k-mers\n",
    "- no real knowledge gained!!\n",
    "- discussing with manja again\n",
    "- other idea:\n",
    "    - Kozaki Sequence Probability (ORF Start/non-ORF Start)\n",
    "    - Frameshift Probability (Start, Stop anderer Frame) \n",
    "    - All Stop/Start Positions plus Frame \n",
    "    - Prediction by prior knowledge \n",
    "        - eg. 3 proteins, 2 shifts and 1 alternative init (kozaki)\n",
    "        - calculate best 3 and weight probabilitys by occurence of events\n",
    "        - alternative splicing completely unimportant\n",
    "        - only the protein frames with shifts and alternative inits important\n",
    "\n",
    "![ORF](ORF.svg)"
   ]
  },
  {
   "cell_type": "code",
   "execution_count": 134,
   "id": "132eec12-1fb3-489b-ba08-772aeda772e9",
   "metadata": {},
   "outputs": [],
   "source": [
    "from Bio import SeqIO\n",
    "from Bio.Seq import Seq\n",
    "import regex as re\n",
    "import numpy as np\n",
    "import pandas as pd\n",
    "import networkx as nx"
   ]
  },
  {
   "cell_type": "code",
   "execution_count": 106,
   "id": "6307d026-8a5c-43cd-8ad3-d4e48f0f2bf6",
   "metadata": {},
   "outputs": [],
   "source": [
    "fasta = SeqIO.parse('A.fasta','fasta')"
   ]
  },
  {
   "cell_type": "code",
   "execution_count": 107,
   "id": "f225b12b-f2ad-4fa5-b64d-284d5c13db9e",
   "metadata": {},
   "outputs": [],
   "source": [
    "entry = next(fasta)\n",
    "sequence =  str(entry.seq)\n",
    "header = entry.name"
   ]
  },
  {
   "cell_type": "code",
   "execution_count": 120,
   "id": "d62e5e6d-f26b-4048-a23f-bdbcb674ddf4",
   "metadata": {},
   "outputs": [],
   "source": [
    "def createGraph(sequence):\n",
    "    \n",
    "    search = re.compile(r'ATG|TAA|TAG|TGA', flags=re.I | re.X)\n",
    "    framedict = {}\n",
    "    \n",
    "    for match in search.finditer(sequence, overlapped=True):\n",
    "        \n",
    "        tripindex = match.start(0)//3\n",
    "        frameindex = match.start(0)%3\n",
    "        triplet = match.group(0)\n",
    "        \n",
    "        if tripindex not in framedict:\n",
    "            framedict[tripindex] = ['N', 'N', 'N']\n",
    "            framedict[tripindex][frameindex] = 'S' if triplet == 'ATG' else 'T'\n",
    "        \n",
    "        else:\n",
    "            framedict[tripindex][frameindex] = 'S' if triplet == 'ATG' else 'T'\n",
    "            \n",
    "    return(framedict)"
   ]
  },
  {
   "cell_type": "code",
   "execution_count": 131,
   "id": "fdbfbac4-d205-4e49-94eb-96543ea32fe9",
   "metadata": {},
   "outputs": [],
   "source": [
    "graph = pd.DataFrame(createGraph(sequence))"
   ]
  },
  {
   "cell_type": "code",
   "execution_count": 138,
   "id": "bf746fe4-6db6-4617-bfc1-7ddaa3e52fa9",
   "metadata": {},
   "outputs": [],
   "source": [
    "with open('../Desktop/test.txt', 'w') as f:\n",
    "    f.write(graph.to_html())"
   ]
  },
  {
   "cell_type": "raw",
   "id": "97be7c01-0e10-4830-b7c2-38c78e93ea8c",
   "metadata": {},
   "source": [
    "n = len(framelist)\n",
    "\n",
    "f = 2\n",
    "p = 2\n",
    "k = 1\n",
    "\n",
    "x = f/n\n",
    "y = p/n\n",
    "z = p/n + k/n"
   ]
  },
  {
   "cell_type": "raw",
   "id": "e2300f52-4019-42f1-8d61-9c69d5d04254",
   "metadata": {},
   "source": [
    "search = re.compile(r'ATG|TAA|TAG|TGA', flags=re.I | re.X)"
   ]
  },
  {
   "cell_type": "raw",
   "id": "0a80b1e7-428e-4ebf-b3e1-16c62077be8c",
   "metadata": {},
   "source": [
    "codondict = [(codon.start(0)//3, codon.group(0), codon.start(0)%3) for codon in search.finditer(sequence, overlapped=True)]"
   ]
  },
  {
   "cell_type": "raw",
   "id": "e472b9f5-10b5-4dd3-b8a0-c6c24b033adf",
   "metadata": {},
   "source": [
    "framelist = list(map(lambda x: ('S' if x[0] == 'ATG' else 'T', x[1], x[1]%3), codonlist))"
   ]
  },
  {
   "cell_type": "raw",
   "id": "1fc8d18e-9d56-4f90-b44c-37c8a02f3d27",
   "metadata": {},
   "source": [
    "observations = (\n",
    "    \"Start\", \n",
    "    \"Stop\")\n",
    "states = (\n",
    "    \"F1ORF\", \n",
    "    \"F2ORF\", \n",
    "    \"F3ORF\",\n",
    "    \"F1NON\", \n",
    "    \"F2NON\", \n",
    "    \"F3NON\")\n",
    "start_p = {\n",
    "    }\n",
    "trans_p = {\n",
    "    \"F1ORF\":{\"F1ORF\":, \"F2ORF\":, \"F3ORF\":, \"F1NON\":, \"F2NON\":, \"F3NON\":}, \n",
    "    \"F2ORF\":{\"F1ORF\":, \"F2ORF\":, \"F3ORF\":, \"F1NON\":, \"F2NON\":, \"F3NON\":}, \n",
    "    \"F3ORF\":{\"F1ORF\":, \"F2ORF\":, \"F3ORF\":, \"F1NON\":, \"F2NON\":, \"F3NON\":},\n",
    "    \"F1NON\":{\"F1ORF\":, \"F2ORF\":, \"F3ORF\":, \"F1NON\":, \"F2NON\":, \"F3NON\":}, \n",
    "    \"F2NON\":{\"F1ORF\":, \"F2ORF\":, \"F3ORF\":, \"F1NON\":, \"F2NON\":, \"F3NON\":}, \n",
    "    \"F3NON\":{\"F1ORF\":, \"F2ORF\":, \"F3ORF\":, \"F1NON\":, \"F2NON\":, \"F3NON\":}\n",
    "}\n",
    "emit_p = {\n",
    "    \"Frame1\": {\n",
    "        0: {\"StopORF\":y, \"ORF\":1-y},\n",
    "        1: {\"StartORF\":z, \"NonORF\":1-z},\n",
    "    },\n",
    "    \n",
    "    \"Frame2\": {\n",
    "        0: {\"StopORF\":y, \"ORF\":1-y},\n",
    "        1: {\"StartORF\":z, \"NonORF\":1-z},\n",
    "    },\n",
    "    \"Frame3\": {\n",
    "        0: {\"StopORF\":y, \"ORF\":1-y},\n",
    "        1: {\"StartORF\":z, \"NonORF\":1-z},\n",
    "    },\n",
    "}"
   ]
  },
  {
   "cell_type": "raw",
   "id": "eab75b36-2946-43df-a191-e4c5b31c18e9",
   "metadata": {},
   "source": [
    "trans_p[\"Frame2\"]"
   ]
  },
  {
   "cell_type": "raw",
   "id": "9af9c3ba-a619-4162-a731-64593bfec8e6",
   "metadata": {},
   "source": [
    "observations = (\"normal\", \"cold\", \"dizzy\", \"normal\", \"normal\", \"cold\", \"dizzy\", \"cold\", \"dizzy\", \"cold\", \"dizzy\")\n",
    "states = (\"Healthy\", \"Fever\")\n",
    "start_p = {\"Healthy\": 0.6, \"Fever\": 0.4}\n",
    "trans_p = {\n",
    "    \"Healthy\": {\"Healthy\": 0.7, \"Fever\": 0.3},\n",
    "    \"Fever\": {\"Healthy\": 0.4, \"Fever\": 0.6},\n",
    "}\n",
    "emit_p = {\n",
    "    \"Healthy\": {\"normal\": 0.5, \"cold\": 0.4, \"dizzy\": 0.1},\n",
    "    \"Fever\": {\"normal\": 0.1, \"cold\": 0.3, \"dizzy\": 0.6},\n",
    "}"
   ]
  },
  {
   "cell_type": "raw",
   "id": "e2965c51-2f9b-4875-9a9e-38cbac309d79",
   "metadata": {},
   "source": [
    "def viterbi_algorithm(observations, states, start_p, trans_p, emit_p):\n",
    "    V = [{}]\n",
    "    for st in states:\n",
    "        V[0][st] = {\"prob\": start_p[st] * emit_p[st][observations[0]], \"prev\": None}\n",
    "\n",
    "    for t in range(1, len(observations)):\n",
    "        V.append({})\n",
    "        for st in states:\n",
    "            max_tr_prob = V[t - 1][states[0]][\"prob\"] * trans_p[states[0]][st]\n",
    "            prev_st_selected = states[0]\n",
    "            for prev_st in states[1:]:\n",
    "                tr_prob = V[t - 1][prev_st][\"prob\"] * trans_p[prev_st][st]\n",
    "                if tr_prob > max_tr_prob:\n",
    "                    max_tr_prob = tr_prob\n",
    "                    prev_st_selected = prev_st\n",
    "\n",
    "            max_prob = max_tr_prob * emit_p[st][observations[t]]\n",
    "            V[t][st] = {\"prob\": max_prob, \"prev\": prev_st_selected}\n",
    "    for line in dptable(V):\n",
    "        print(line)\n",
    "\n",
    "    opt = []\n",
    "    max_prob = 0.0\n",
    "    best_st = None\n",
    "\n",
    "    for st, data in V[-1].items():\n",
    "        if data[\"prob\"] > max_prob:\n",
    "            max_prob = data[\"prob\"]\n",
    "            best_st = st\n",
    "    opt.append(best_st)\n",
    "    previous = best_st\n",
    "\n",
    "    for t in range(len(V) - 2, -1, -1):\n",
    "        opt.insert(0, V[t + 1][previous][\"prev\"])\n",
    "        previous = V[t + 1][previous][\"prev\"]\n",
    "\n",
    "    print (\"The steps of states are \" + \" \".join(opt) + \" with highest probability of %s\" % max_prob)\n",
    "\n",
    "def dptable(V):\n",
    "\n",
    "    yield \" \".join((\"%12d\" % i) for i in range(len(V)))\n",
    "    for state in V[0]:\n",
    "        yield \"%.7s: \" % state + \" \".join(\"%.7s\" % (\"%f\" % v[state][\"prob\"]) for v in V)"
   ]
  },
  {
   "cell_type": "raw",
   "id": "114e38a6-23a0-459f-a9fe-27202caf62a8",
   "metadata": {},
   "source": [
    "viterbi_algorithm(observations, states, start_p, trans_p, emit_p)"
   ]
  },
  {
   "cell_type": "raw",
   "id": "fc3329f7-3f68-4fa1-bf89-56d57563d847",
   "metadata": {},
   "source": [
    "def getReadingframe (seq):\n",
    "\n",
    "    aminostr = {\n",
    "        'ATG':'+', 'TAA':'-', 'TAG':'-', 'TGA':'-',\n",
    "    }\n",
    "    # aminorev = {\n",
    "    #     'CAT':'-', 'TTA':'+', 'CTA':'+', 'TCA':'+',\n",
    "    # }\n",
    "    \n",
    "    i = 0\n",
    "    cs1 = cs2 = cs3 = len(seq)\n",
    "    as1 = bs1 = fs1 = gs1 = as2 = bs2 = fs2 = gs2 = as3 = bs3 = fs3 = gs3 = 0\n",
    "    # cr1 = cr2 = cr3 = len(seq)\n",
    "    # ar1 = br1 = ar2 = br2 = ar3 = br3 = 0\n",
    "\n",
    "    while i <= len(seq)-2:\n",
    "        as1,bs1,cs1,fs1,gs1 = getORFDensity(aminostr.get(seq[i+0:i+3], ''),as1,bs1,cs1,fs1,gs1,i+0)\n",
    "        as2,bs2,cs2,fs2,gs2 = getORFDensity(aminostr.get(seq[i+1:i+4], ''),as2,bs2,cs2,fs2,gs2,i+1)\n",
    "        as3,bs3,cs3,fs3,gs3 = getORFDensity(aminostr.get(seq[i+2:i+5], ''),as3,bs3,cs3,fs3,gs3,i+2)\n",
    "        # ar1,br1,cr1 = getORFDensity(aminorev.get(seq[i+0:i+3], ''),ar1,br1,cr1,i+0)\n",
    "        # ar2,br2,cr2 = getORFDensity(aminorev.get(seq[i+1:i+4], ''),ar2,br2,cr2,i+1)\n",
    "        # ar3,br3,cr3 = getORFDensity(aminorev.get(seq[i+2:i+5], ''),ar3,br3,cr3,i+2)\n",
    "\n",
    "        i += 3\n",
    "        \n",
    "    # print(cs1, cs2, cs3, cr1, cr2, cr3)\n",
    "    print(cs1, gs1, cs2, gs2, cs3, gs3)"
   ]
  },
  {
   "cell_type": "raw",
   "id": "fbb20552-4c0d-4ad1-a4c0-204eb154dbb3",
   "metadata": {},
   "source": [
    "def getORFDensity (acid,a,b,c,f,g,i):\n",
    "    \n",
    "    #a: Startcodon position\n",
    "    #b: Stopcodon position\n",
    "    #c: smallest Stop-Start distance\n",
    "    #f: readingframe start\n",
    "    #g: longest readingframe distance\n",
    "    #i: position\n",
    "    \n",
    "    if acid == '+':\n",
    "        a = i \n",
    "        f = i if f == 0 else f\n",
    "        c = i-b if i-b <= c and b > 0 else c\n",
    "        #c = c+i-b if b > 0 else c\n",
    "          \n",
    "    elif acid == '-':\n",
    "        b = i\n",
    "        g = i-f if i-f >= g and f > 0 else g\n",
    "        f = 0 if f != 0 else f\n",
    "    \n",
    "    # print(a,b,c,f,g,i)\n",
    "    return(a,b,c,f,g)"
   ]
  },
  {
   "cell_type": "raw",
   "id": "checked-measure",
   "metadata": {},
   "source": [
    "##ONLY FOR TESTING CELL \n",
    "### DELETE AFTER\n",
    "\n",
    "aminostr = {\n",
    "    'ATG':'[start]', 'TAA':'[stop]', 'TAG':'[stop]', 'TGA':'[stop]',\n",
    "}\n",
    "\n",
    "for l in [0,1,2]:\n",
    "    x1 = ''\n",
    "    x2 = ''\n",
    "    y = str(sequence)\n",
    "    c = 0\n",
    "    d = 0\n",
    "    k = 0 + l\n",
    "\n",
    "    while k <= len(y)-2:\n",
    "\n",
    "        if aminostr.get(y[k:k+3], '') != '':\n",
    "            x1 += '[' + str(c) + ']' + aminostr.get(y[k:k+3])\n",
    "            print(k, y[k:k+3], aminostr.get(y[k:k+3]))\n",
    "            c = 0\n",
    "        else:\n",
    "            c += 1\n",
    "\n",
    "        k = k + 3\n",
    "\n",
    "#print(x1)\n",
    "#print(x2)"
   ]
  },
  {
   "cell_type": "raw",
   "id": "bd595bdc-27e8-4ed3-9c9b-4dcdf66d0e21",
   "metadata": {},
   "source": [
    "import networkx as nx"
   ]
  },
  {
   "cell_type": "raw",
   "id": "d63a077c-9ec4-4311-af6d-a32128e1a7f7",
   "metadata": {},
   "source": [
    "G = nx.Graph()\n",
    "G.add_nodes_from([\"A\", \"B\", \"C\", \"D\", \"E\"])\n",
    "G.add_edges_from([(\"A\", \"B\"), (\"B\", \"C\"), (\"C\", \"D\"), (\"D\", \"E\")])"
   ]
  },
  {
   "cell_type": "raw",
   "id": "e7d2c343-908d-484b-bd3e-95348d87068a",
   "metadata": {},
   "source": [
    "G"
   ]
  },
  {
   "cell_type": "raw",
   "id": "f824943f-6bdd-4b86-82d3-bcfa628a9172",
   "metadata": {},
   "source": [
    "sp[\"A\"][\"E\"]"
   ]
  },
  {
   "cell_type": "raw",
   "id": "81a46314-c830-455d-b4b8-d0c1aa252803",
   "metadata": {},
   "source": [
    "spl = nx.all_pairs_shortest_path_length(G)"
   ]
  },
  {
   "cell_type": "raw",
   "id": "a53b5078-e788-4c48-938d-e14c48070299",
   "metadata": {},
   "source": []
  }
 ],
 "metadata": {
  "kernelspec": {
   "display_name": "Python 3",
   "language": "python",
   "name": "python3"
  },
  "language_info": {
   "codemirror_mode": {
    "name": "ipython",
    "version": 3
   },
   "file_extension": ".py",
   "mimetype": "text/x-python",
   "name": "python",
   "nbconvert_exporter": "python",
   "pygments_lexer": "ipython3",
   "version": "3.8.6"
  }
 },
 "nbformat": 4,
 "nbformat_minor": 5
}
