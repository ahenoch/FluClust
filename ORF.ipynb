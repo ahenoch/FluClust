{
 "cells": [
  {
   "cell_type": "markdown",
   "id": "1adb8cc7-4593-403e-b9f5-a41fa154ef56",
   "metadata": {},
   "source": [
    "# ORF Density Notebook\n",
    "\n",
    "- implementation for evolution necessary\n",
    "- could also be necessary for better positional k-mers\n",
    "- Status: finished\n",
    "- no real knowledge gained!!\n",
    "- discussing with manja again\n",
    "- other idea:\n",
    "    - Kozaki Sequence Probability (ORF Start/non-ORF Start)\n",
    "    - Frameshift Probability (Start, Stop anderer Frame) \n",
    "    - All Stop/Start Positions plus Frame \n",
    "    - Prediction by prior knowledge \n",
    "        - eg. 3 proteins, 2 shifts and 1 alternative init (kozaki)\n",
    "        - calculate best 3 and weight probabilitys by occurence of events\n",
    "        - alternative splicing completely unimportant\n",
    "        - only the protein frames with shifts and alternative inits important\n",
    "\n",
    "![ORF](ORF.png)"
   ]
  },
  {
   "cell_type": "code",
   "execution_count": 235,
   "id": "bb48db61-499c-483a-a761-524ec1806159",
   "metadata": {},
   "outputs": [],
   "source": [
    "from Bio import SeqIO\n",
    "from Bio.Seq import Seq"
   ]
  },
  {
   "cell_type": "code",
   "execution_count": 630,
   "id": "46d723eb-93e0-467c-918a-66d2c610f425",
   "metadata": {},
   "outputs": [],
   "source": [
    "def getReadingframe (seq):\n",
    "\n",
    "    aminostr = {\n",
    "        'ATG':'+', 'TAA':'-', 'TAG':'-', 'TGA':'-',\n",
    "    }\n",
    "    # aminorev = {\n",
    "    #     'CAT':'-', 'TTA':'+', 'CTA':'+', 'TCA':'+',\n",
    "    # }\n",
    "    \n",
    "    i = 0\n",
    "    cs1 = cs2 = cs3 = len(seq)\n",
    "    as1 = bs1 = fs1 = gs1 = as2 = bs2 = fs2 = gs2 = as3 = bs3 = fs3 = gs3 = 0\n",
    "    # cr1 = cr2 = cr3 = len(seq)\n",
    "    # ar1 = br1 = ar2 = br2 = ar3 = br3 = 0\n",
    "\n",
    "    while i <= len(seq)-2:\n",
    "        as1,bs1,cs1,fs1,gs1 = getORFDensity(aminostr.get(seq[i+0:i+3], ''),as1,bs1,cs1,fs1,gs1,i+0)\n",
    "        as2,bs2,cs2,fs2,gs2 = getORFDensity(aminostr.get(seq[i+1:i+4], ''),as2,bs2,cs2,fs2,gs2,i+1)\n",
    "        as3,bs3,cs3,fs3,gs3 = getORFDensity(aminostr.get(seq[i+2:i+5], ''),as3,bs3,cs3,fs3,gs3,i+2)\n",
    "        # ar1,br1,cr1 = getORFDensity(aminorev.get(seq[i+0:i+3], ''),ar1,br1,cr1,i+0)\n",
    "        # ar2,br2,cr2 = getORFDensity(aminorev.get(seq[i+1:i+4], ''),ar2,br2,cr2,i+1)\n",
    "        # ar3,br3,cr3 = getORFDensity(aminorev.get(seq[i+2:i+5], ''),ar3,br3,cr3,i+2)\n",
    "\n",
    "        i += 3\n",
    "        \n",
    "    # print(cs1, cs2, cs3, cr1, cr2, cr3)\n",
    "    print(cs1, gs1, cs2, gs2, cs3, gs3)"
   ]
  },
  {
   "cell_type": "code",
   "execution_count": 671,
   "id": "b749ad6b-d449-4a0c-a95f-e295ee8f3419",
   "metadata": {},
   "outputs": [],
   "source": [
    "def getORFDensity (acid,a,b,c,f,g,i):\n",
    "    \n",
    "    #a: Startcodon position\n",
    "    #b: Stopcodon position\n",
    "    #c: smallest Stop-Start distance\n",
    "    #f: readingframe start\n",
    "    #g: longest readingframe distance\n",
    "    #i: position\n",
    "    \n",
    "    if acid == '+':\n",
    "        a = i \n",
    "        f = i if f == 0 else f\n",
    "        c = i-b if i-b <= c and b > 0 else c\n",
    "        #c = c+i-b if b > 0 else c\n",
    "          \n",
    "    elif acid == '-':\n",
    "        b = i\n",
    "        g = i-f if i-f >= g and f > 0 else g\n",
    "        f = 0 if f != 0 else f\n",
    "    \n",
    "    # print(a,b,c,f,g,i)\n",
    "    return(a,b,c,f,g)"
   ]
  },
  {
   "cell_type": "code",
   "execution_count": 465,
   "id": "67856bf3-623c-4bad-8a0c-f2692703c563",
   "metadata": {},
   "outputs": [],
   "source": [
    "fasta = SeqIO.parse('A.fasta','fasta')"
   ]
  },
  {
   "cell_type": "code",
   "execution_count": 683,
   "id": "15c3a799-10d9-4b41-b127-17f3c74999bd",
   "metadata": {},
   "outputs": [
    {
     "name": "stdout",
     "output_type": "stream",
     "text": [
      "CY073729|A/Aalborg/INS283/2009|8|NS1|A|H1N1|12/07/2009|Human|Pass|09_10|Denmark|NA\n",
      "45 657 42 324 3 42\n"
     ]
    }
   ],
   "source": [
    "entry = next(fasta)\n",
    "sequence =  str(entry.seq)\n",
    "header = entry.name\n",
    "print(header)\n",
    "getReadingframe(sequence)"
   ]
  },
  {
   "cell_type": "raw",
   "id": "85c42daa-9dd9-4815-be87-08d97367b309",
   "metadata": {},
   "source": [
    "##ONLY FOR TESTING CELL \n",
    "### DELETE AFTER\n",
    "\n",
    "aminostr = {\n",
    "    'ATG':'[start]', 'TAA':'[stop]', 'TAG':'[stop]', 'TGA':'[stop]',\n",
    "}\n",
    "\n",
    "for l in [0,1,2]:\n",
    "    x1 = ''\n",
    "    x2 = ''\n",
    "    y = str(sequence)\n",
    "    c = 0\n",
    "    d = 0\n",
    "    k = 0 + l\n",
    "\n",
    "    while k <= len(y)-2:\n",
    "\n",
    "        if aminostr.get(y[k:k+3], '') != '':\n",
    "            x1 += '[' + str(c) + ']' + aminostr.get(y[k:k+3])\n",
    "            print(k, y[k:k+3], aminostr.get(y[k:k+3]))\n",
    "            c = 0\n",
    "        else:\n",
    "            c += 1\n",
    "\n",
    "        k = k + 3\n",
    "\n",
    "#print(x1)\n",
    "#print(x2)"
   ]
  },
  {
   "cell_type": "code",
   "execution_count": null,
   "id": "71702001-b8e2-4b2b-9cbe-6e1e8ec6ed82",
   "metadata": {},
   "outputs": [],
   "source": []
  }
 ],
 "metadata": {
  "kernelspec": {
   "display_name": "Python 3 (ipykernel)",
   "language": "python",
   "name": "python3"
  },
  "language_info": {
   "codemirror_mode": {
    "name": "ipython",
    "version": 3
   },
   "file_extension": ".py",
   "mimetype": "text/x-python",
   "name": "python",
   "nbconvert_exporter": "python",
   "pygments_lexer": "ipython3",
   "version": "3.9.7"
  }
 },
 "nbformat": 4,
 "nbformat_minor": 5
}
