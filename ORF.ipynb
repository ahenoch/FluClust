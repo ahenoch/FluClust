{
 "cells": [
  {
   "cell_type": "code",
   "execution_count": 235,
   "id": "bb48db61-499c-483a-a761-524ec1806159",
   "metadata": {},
   "outputs": [],
   "source": [
    "from Bio import SeqIO\n",
    "from Bio.Seq import Seq"
   ]
  },
  {
   "cell_type": "code",
   "execution_count": 585,
   "id": "b749ad6b-d449-4a0c-a95f-e295ee8f3419",
   "metadata": {},
   "outputs": [],
   "source": [
    "def getORFDensity (acid,a,b,c,f,g,i):\n",
    "    \n",
    "    #a: Startcodon position\n",
    "    #b: Stopcodon position\n",
    "    #c: smallest Stop-Start distance\n",
    "    #f: readingframe start\n",
    "    #g: longest readingframe distance\n",
    "    #i: position\n",
    "    \n",
    "    if acid == '+':\n",
    "        a = i \n",
    "        f = i if f == 0 else f\n",
    "        c = i-b if i-b <= c and b > 0 else c\n",
    "        #c = c+i-b if b > 0 else c\n",
    "          \n",
    "    elif acid == '-':\n",
    "        b = i\n",
    "        g = i-f if i-f >= g and f > 0 else g\n",
    "        f = 0 if f != 0 else f\n",
    "    \n",
    "    return(a,b,c,f,g)"
   ]
  },
  {
   "cell_type": "code",
   "execution_count": 586,
   "id": "46d723eb-93e0-467c-918a-66d2c610f425",
   "metadata": {},
   "outputs": [],
   "source": [
    "def getReadingframe (seq):\n",
    "\n",
    "    aminostr = {\n",
    "        'ATG':'+', 'TAC':'-', 'TAG':'-', 'TGA':'-',\n",
    "    }\n",
    "    # aminorev = {\n",
    "    #     'CAT':'-', 'GTA':'+', 'CTA':'+', 'TCA':'+',\n",
    "    # }\n",
    "    \n",
    "    i = 0\n",
    "    cs1 = cs2 = cs3 = len(seq)\n",
    "    as1 = bs1 = fs1 = gs1 = as2 = bs2 = fs2 = gs2 = as3 = bs3 = fs3 = gs3 = 0\n",
    "    # cr1 = cr2 = cr3 = len(seq)\n",
    "    # ar1 = br1 = ar2 = br2 = ar3 = br3 = 0\n",
    "\n",
    "    while i <= len(seq)-2:\n",
    "        as1,bs1,cs1,fs1,gs1 = getORFDensity(aminostr.get(seq[i+0:i+3], ''),as1,bs1,cs1,fs1,gs1,i+0)\n",
    "        as2,bs2,cs2,fs2,gs2 = getORFDensity(aminostr.get(seq[i+1:i+4], ''),as2,bs2,cs2,fs2,gs2,i+1)\n",
    "        as3,bs3,cs3,fs3,gs3 = getORFDensity(aminostr.get(seq[i+2:i+5], ''),as3,bs3,cs3,fs3,gs3,i+2)\n",
    "        # ar1,br1,cr1 = getORFDensity(aminorev.get(seq[i+0:i+3], ''),ar1,br1,cr1,i+0)\n",
    "        # ar2,br2,cr2 = getORFDensity(aminorev.get(seq[i+1:i+4], ''),ar2,br2,cr2,i+1)\n",
    "        # ar3,br3,cr3 = getORFDensity(aminorev.get(seq[i+2:i+5], ''),ar3,br3,cr3,i+2)\n",
    "\n",
    "        i += 3\n",
    "        \n",
    "    # print(cs1, cs2, cs3, cr1, cr2, cr3)\n",
    "    print(cs1, gs1, cs2, gs2, cs3, gs3)"
   ]
  },
  {
   "cell_type": "code",
   "execution_count": 465,
   "id": "67856bf3-623c-4bad-8a0c-f2692703c563",
   "metadata": {},
   "outputs": [],
   "source": [
    "fasta = SeqIO.parse('A.fasta','fasta')"
   ]
  },
  {
   "cell_type": "code",
   "execution_count": 603,
   "id": "695485ce-6990-4d8c-a545-221b40e27967",
   "metadata": {},
   "outputs": [],
   "source": [
    "entry = next(fasta)\n",
    "sequence =  str(entry.seq)\n",
    "header = entry.name"
   ]
  },
  {
   "cell_type": "code",
   "execution_count": 604,
   "id": "7e05dc19-7a16-485b-8d19-6590a5489e1a",
   "metadata": {},
   "outputs": [
    {
     "name": "stdout",
     "output_type": "stream",
     "text": [
      "CY083911|A/Aalborg/INS132/2009|7|M1|A|H1N1|11/23/2009|Human|Pass|09_10|Denmark|NA\n",
      "TAGATATTTAAAGATGAGTCTTCTAACCGAGGTCGAAACGTACGTTCTTTCTATCATCCCGTCAGGCCCCCTCAAAGCCGAGATCGCGCAGAGACTGGAAAGTGTCTTTGCAGGAAAGAACACAGATCTTGAGGCTCTCATGGAATGGCTAAAGACAAGACCAATCTTGTCACCTCTGACTAAGGGAATTTTAGGATTTGTGTTCACGCTCACCGTGCCCAGTGAGCGAGGACTGCAGCGTAGACGCTTTGTCCAAAATGCCCTAAATGGGAATGGGGACCCGAACAACATGGATAGAGCAGTTAAACTATACAAGAAGCTCAAAAGAGAAATAACGTTCCATGGGGCCAAGGAGGTGTCACTAAGCTATTCAACTGGTGCACTTGCCAGTTGCATGGGCCTCATATACAACAGGATGGGAACAGTGACCACAGAAGCTGCTTTTGGTCTAGTGTGTGCCACTTGTGAACAGATTGCTGATTCACAGCATCGGTCTCACAGACAAATGGCTACTACCACCAATCCACTAATCAGGCATGAAAACAGAATGGTGCTGGCTAGCACTACGGCAAAGGCTATGGAACAGATGGCTGGATCGAGTGAACAGGCAGCAGAGGCCATGGAGGTTGCTAATCAGACTAGGCAGATGGTACATGCAATGAGAACTATTGGGACTCATCCTAGCTCCAGTGCTGGTCTGAAAGATGACCTTCTTGAAAATTTGCAGGCCTACCAGAAGCGAATGGGAGTGCAGATGCAGCGATTCAAGTGATCCTCTCGTCATTGCAGCAAATATCATTGGGATCTTGCACCTGATATTGTGGATTACTGATCGTCTTTTTTTCAAATGTATTTATCGTCGCTTTAAATACGGTTTGAAAAGAGGGCCTTCTACGGAAGGAGTGCCTGAGTCCATGAGGGAAGAATATCAACAGGAACAGCAGAGTGCTGTGGATGTTGACGATGGTCATTTTGTCAACATAGAGCTAGAGTAAAAAACTA\n"
     ]
    }
   ],
   "source": [
    "print(header)\n",
    "print(sequence)"
   ]
  },
  {
   "cell_type": "code",
   "execution_count": 605,
   "id": "a914f6ca-feaf-4acf-957e-8637f4fe667b",
   "metadata": {},
   "outputs": [
    {
     "name": "stdout",
     "output_type": "stream",
     "text": [
      "15 78 9 315 3 168\n"
     ]
    }
   ],
   "source": [
    "getReadingframe(sequence)"
   ]
  },
  {
   "cell_type": "code",
   "execution_count": 607,
   "id": "f7a7dc58-e6d1-40ea-a831-11b4e98c0a66",
   "metadata": {},
   "outputs": [
    {
     "name": "stdout",
     "output_type": "stream",
     "text": [
      "13 ATG [start]\n",
      "139 ATG [start]\n",
      "289 ATG [start]\n",
      "394 ATG [start]\n",
      "415 ATG [start]\n",
      "505 ATG [start]\n",
      "547 ATG [start]\n",
      "577 ATG [start]\n",
      "586 ATG [start]\n",
      "619 ATG [start]\n",
      "646 ATG [start]\n",
      "658 ATG [start]\n",
      "742 ATG [start]\n",
      "754 ATG [start]\n",
      "769 TGA [stop]\n",
      "829 TGA [stop]\n",
      "847 ATG [start]\n",
      "865 TAA [stop]\n",
      "907 TGA [stop]\n",
      "958 TGA [stop]\n"
     ]
    }
   ],
   "source": [
    "##ONLY FOR TESTING CELL ### DELETE AFTER\n",
    "\n",
    "aminostr = {\n",
    "    'ATG':'[start]', 'TAA':'[stop]', 'TAG':'[stop]', 'TGA':'[stop]',\n",
    "}\n",
    "aminorev = {\n",
    "    'CAT':'[stop]', 'TTA':'[start]', 'CTA':'[start]', 'TCA':'[start]',\n",
    "}\n",
    "\n",
    "l = 1\n",
    "x1 = ''\n",
    "x2 = ''\n",
    "y = str(sequence)\n",
    "c = 0\n",
    "d = 0\n",
    "k = 0 + l\n",
    "\n",
    "while k <= len(y)-2:\n",
    "\n",
    "    if aminostr.get(y[k:k+3], '') != '':\n",
    "        x1 += '[' + str(c) + ']' + aminostr.get(y[k:k+3])\n",
    "        print(k, y[k:k+3], aminostr.get(y[k:k+3]))\n",
    "        c = 0\n",
    "    else:\n",
    "        c += 1\n",
    "\n",
    "    if aminorev.get(y[k:k+3], '') != '':\n",
    "        x2 += '[' + str(d) + ']' + aminorev.get(y[k:k+3])\n",
    "        d = 0\n",
    "    else:\n",
    "        d += 1\n",
    "\n",
    "    k = k + 3\n",
    "\n",
    "#print(x1)\n",
    "#print(x2)"
   ]
  },
  {
   "cell_type": "code",
   "execution_count": null,
   "id": "0ff00e3b-4904-49b0-b7c4-2bd337eafe58",
   "metadata": {},
   "outputs": [],
   "source": []
  }
 ],
 "metadata": {
  "kernelspec": {
   "display_name": "Python 3 (ipykernel)",
   "language": "python",
   "name": "python3"
  },
  "language_info": {
   "codemirror_mode": {
    "name": "ipython",
    "version": 3
   },
   "file_extension": ".py",
   "mimetype": "text/x-python",
   "name": "python",
   "nbconvert_exporter": "python",
   "pygments_lexer": "ipython3",
   "version": "3.9.7"
  }
 },
 "nbformat": 4,
 "nbformat_minor": 5
}
