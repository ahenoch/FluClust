{
 "cells": [
  {
   "cell_type": "markdown",
   "id": "fbf41469-ff56-4c21-886d-dd775d640807",
   "metadata": {
    "tags": []
   },
   "source": [
    "# ORF Density Notebook\n",
    "\n",
    "- status: finished\n",
    "- implementation for evolution necessary\n",
    "- could also be necessary for better positional k-mers\n",
    "- no real knowledge gained!!\n",
    "- discussing with manja again\n",
    "- other idea:\n",
    "    - Kozaki Sequence Probability (ORF Start/non-ORF Start)\n",
    "    - Frameshift Probability (Start, Stop anderer Frame) \n",
    "    - All Stop/Start Positions plus Frame \n",
    "    - Prediction by prior knowledge \n",
    "        - eg. 3 proteins, 2 shifts and 1 alternative init (kozaki)\n",
    "        - calculate best 3 and weight probabilitys by occurence of events\n",
    "        - alternative splicing completely unimportant\n",
    "        - only the protein frames with shifts and alternative inits important\n",
    "\n",
    "![ORF](ORF.svg)"
   ]
  },
  {
   "cell_type": "code",
   "execution_count": 5,
   "id": "132eec12-1fb3-489b-ba08-772aeda772e9",
   "metadata": {},
   "outputs": [],
   "source": [
    "from Bio import SeqIO\n",
    "from Bio.Seq import Seq\n",
    "import re"
   ]
  },
  {
   "cell_type": "code",
   "execution_count": 60,
   "id": "6307d026-8a5c-43cd-8ad3-d4e48f0f2bf6",
   "metadata": {},
   "outputs": [],
   "source": [
    "fasta = SeqIO.parse('A.fasta','fasta')"
   ]
  },
  {
   "cell_type": "code",
   "execution_count": 61,
   "id": "f225b12b-f2ad-4fa5-b64d-284d5c13db9e",
   "metadata": {},
   "outputs": [],
   "source": [
    "entry = next(fasta)\n",
    "sequence =  str(entry.seq)\n",
    "header = entry.name"
   ]
  },
  {
   "cell_type": "code",
   "execution_count": 62,
   "id": "9386e756-e44f-4443-a86b-64bcb0737c4f",
   "metadata": {},
   "outputs": [],
   "source": [
    "regex = re.compile(r'ATG|TAA|TAG|TGA', flags=re.I | re.X)"
   ]
  },
  {
   "cell_type": "code",
   "execution_count": 63,
   "id": "ff3c7604-e138-40b2-92fd-918491960b24",
   "metadata": {},
   "outputs": [],
   "source": [
    "codonlist = [(codon.group(0), codon.start(0)) for codon in regex.finditer(sequence)]"
   ]
  },
  {
   "cell_type": "code",
   "execution_count": 64,
   "id": "3e756d36-06f5-46e7-b215-9dbaf27cae5e",
   "metadata": {},
   "outputs": [],
   "source": [
    "framelist = list(map(lambda x: (x[0], x[1], x[1]%3), a))"
   ]
  },
  {
   "cell_type": "code",
   "execution_count": 70,
   "id": "f1815910-284c-4739-bace-588e27d02c5f",
   "metadata": {},
   "outputs": [],
   "source": [
    "n = len(framelist)\n",
    "\n",
    "f = 2\n",
    "p = 2\n",
    "k = 1\n",
    "\n",
    "x = f/n\n",
    "y = p/n\n",
    "z = p/n + k/n"
   ]
  },
  {
   "cell_type": "code",
   "execution_count": 77,
   "id": "9b2bde82-0aa6-44af-9b5d-7876ccf86b13",
   "metadata": {},
   "outputs": [],
   "source": [
    "observations = (\n",
    "    \"StopORF\", \n",
    "    \"ORF\", \n",
    "    \"StartORF\", \n",
    "    \"NonORF\")\n",
    "states = (\n",
    "    \"Frame1\", \n",
    "    \"Frame2\", \n",
    "    \"Frame3\")\n",
    "start_p = {\n",
    "    \"Frame1\":1/3, \n",
    "    \"Frame2\":1/3, \n",
    "    \"Frame3\":1/3}\n",
    "trans_p = {\n",
    "    \"Frame1\": {\"Frame1\": 1-2*x, \"Frame2\": x, \"Frame3\": x},\n",
    "    \"Frame2\": {\"Frame1\": x, \"Frame2\": 1-2*x, \"Frame3\": x},\n",
    "    \"Frame3\": {\"Frame1\": x, \"Frame2\": x, \"Frame3\": 1-2*x},\n",
    "}\n",
    "emit_p = {\n",
    "    \"Frame1\": {\n",
    "        0: {\"StopORF\":y, \"ORF\":1-y},\n",
    "        1: {\"StartORF\":z, \"NonORF\":1-z},\n",
    "    },\n",
    "    \n",
    "    \"Frame2\": {\n",
    "        0: {\"StopORF\":y, \"ORF\":1-y},\n",
    "        1: {\"StartORF\":z, \"NonORF\":1-z},\n",
    "    },\n",
    "    \"Frame3\": {\n",
    "        0: {\"StopORF\":y, \"ORF\":1-y},\n",
    "        1: {\"StartORF\":z, \"NonORF\":1-z},\n",
    "    },\n",
    "}"
   ]
  },
  {
   "cell_type": "code",
   "execution_count": 79,
   "id": "4a44ce5b-c791-40dc-bacb-ab89ae2dccea",
   "metadata": {},
   "outputs": [
    {
     "data": {
      "text/plain": [
       "{'Frame1': 0.01639344262295082,\n",
       " 'Frame2': 0.9672131147540983,\n",
       " 'Frame3': 0.01639344262295082}"
      ]
     },
     "execution_count": 79,
     "metadata": {},
     "output_type": "execute_result"
    }
   ],
   "source": [
    "trans_p[\"Frame2\"]"
   ]
  },
  {
   "cell_type": "code",
   "execution_count": 90,
   "id": "5199f791-3a0f-4e35-be43-8f809318c182",
   "metadata": {},
   "outputs": [],
   "source": [
    "observations = (\"normal\", \"cold\", \"dizzy\", \"normal\", \"normal\", \"cold\", \"dizzy\", \"cold\", \"dizzy\", \"cold\", \"dizzy\")\n",
    "states = (\"Healthy\", \"Fever\")\n",
    "start_p = {\"Healthy\": 0.6, \"Fever\": 0.4}\n",
    "trans_p = {\n",
    "    \"Healthy\": {\"Healthy\": 0.7, \"Fever\": 0.3},\n",
    "    \"Fever\": {\"Healthy\": 0.4, \"Fever\": 0.6},\n",
    "}\n",
    "emit_p = {\n",
    "    \"Healthy\": {\"normal\": 0.5, \"cold\": 0.4, \"dizzy\": 0.1},\n",
    "    \"Fever\": {\"normal\": 0.1, \"cold\": 0.3, \"dizzy\": 0.6},\n",
    "}"
   ]
  },
  {
   "cell_type": "code",
   "execution_count": 91,
   "id": "a8f5b7bb-a3e5-4848-a2a8-26c83de8b283",
   "metadata": {},
   "outputs": [],
   "source": [
    "def viterbi_algorithm(observations, states, start_p, trans_p, emit_p):\n",
    "    V = [{}]\n",
    "    for st in states:\n",
    "        V[0][st] = {\"prob\": start_p[st] * emit_p[st][observations[0]], \"prev\": None}\n",
    "\n",
    "    for t in range(1, len(observations)):\n",
    "        V.append({})\n",
    "        for st in states:\n",
    "            max_tr_prob = V[t - 1][states[0]][\"prob\"] * trans_p[states[0]][st]\n",
    "            prev_st_selected = states[0]\n",
    "            for prev_st in states[1:]:\n",
    "                tr_prob = V[t - 1][prev_st][\"prob\"] * trans_p[prev_st][st]\n",
    "                if tr_prob > max_tr_prob:\n",
    "                    max_tr_prob = tr_prob\n",
    "                    prev_st_selected = prev_st\n",
    "\n",
    "            max_prob = max_tr_prob * emit_p[st][observations[t]]\n",
    "            V[t][st] = {\"prob\": max_prob, \"prev\": prev_st_selected}\n",
    "    for line in dptable(V):\n",
    "        print(line)\n",
    "\n",
    "    opt = []\n",
    "    max_prob = 0.0\n",
    "    best_st = None\n",
    "\n",
    "    for st, data in V[-1].items():\n",
    "        if data[\"prob\"] > max_prob:\n",
    "            max_prob = data[\"prob\"]\n",
    "            best_st = st\n",
    "    opt.append(best_st)\n",
    "    previous = best_st\n",
    "\n",
    "    for t in range(len(V) - 2, -1, -1):\n",
    "        opt.insert(0, V[t + 1][previous][\"prev\"])\n",
    "        previous = V[t + 1][previous][\"prev\"]\n",
    "\n",
    "    print (\"The steps of states are \" + \" \".join(opt) + \" with highest probability of %s\" % max_prob)\n",
    "\n",
    "def dptable(V):\n",
    "\n",
    "    yield \" \".join((\"%12d\" % i) for i in range(len(V)))\n",
    "    for state in V[0]:\n",
    "        yield \"%.7s: \" % state + \" \".join(\"%.7s\" % (\"%f\" % v[state][\"prob\"]) for v in V)"
   ]
  },
  {
   "cell_type": "code",
   "execution_count": 92,
   "id": "af8d9c27-eac9-4901-ae89-d047e9baac48",
   "metadata": {},
   "outputs": [
    {
     "name": "stdout",
     "output_type": "stream",
     "text": [
      "           0            1            2            3            4            5            6            7            8            9           10\n",
      "Healthy: 0.30000 0.08400 0.00588 0.00302 0.00105 0.00029 0.00002 0.00000 0.00000 0.00000 0.00000\n",
      "Fever: 0.04000 0.02700 0.01512 0.00090 0.00009 0.00009 0.00005 0.00001 0.00000 0.00000 0.00000\n",
      "The steps of states are Healthy Healthy Fever Healthy Healthy Healthy Fever Fever Fever Fever Fever with highest probability of 2.2399090237439986e-07\n"
     ]
    }
   ],
   "source": [
    "viterbi_algorithm(observations, states, start_p, trans_p, emit_p)"
   ]
  },
  {
   "cell_type": "raw",
   "id": "fc3329f7-3f68-4fa1-bf89-56d57563d847",
   "metadata": {},
   "source": [
    "def getReadingframe (seq):\n",
    "\n",
    "    aminostr = {\n",
    "        'ATG':'+', 'TAA':'-', 'TAG':'-', 'TGA':'-',\n",
    "    }\n",
    "    # aminorev = {\n",
    "    #     'CAT':'-', 'TTA':'+', 'CTA':'+', 'TCA':'+',\n",
    "    # }\n",
    "    \n",
    "    i = 0\n",
    "    cs1 = cs2 = cs3 = len(seq)\n",
    "    as1 = bs1 = fs1 = gs1 = as2 = bs2 = fs2 = gs2 = as3 = bs3 = fs3 = gs3 = 0\n",
    "    # cr1 = cr2 = cr3 = len(seq)\n",
    "    # ar1 = br1 = ar2 = br2 = ar3 = br3 = 0\n",
    "\n",
    "    while i <= len(seq)-2:\n",
    "        as1,bs1,cs1,fs1,gs1 = getORFDensity(aminostr.get(seq[i+0:i+3], ''),as1,bs1,cs1,fs1,gs1,i+0)\n",
    "        as2,bs2,cs2,fs2,gs2 = getORFDensity(aminostr.get(seq[i+1:i+4], ''),as2,bs2,cs2,fs2,gs2,i+1)\n",
    "        as3,bs3,cs3,fs3,gs3 = getORFDensity(aminostr.get(seq[i+2:i+5], ''),as3,bs3,cs3,fs3,gs3,i+2)\n",
    "        # ar1,br1,cr1 = getORFDensity(aminorev.get(seq[i+0:i+3], ''),ar1,br1,cr1,i+0)\n",
    "        # ar2,br2,cr2 = getORFDensity(aminorev.get(seq[i+1:i+4], ''),ar2,br2,cr2,i+1)\n",
    "        # ar3,br3,cr3 = getORFDensity(aminorev.get(seq[i+2:i+5], ''),ar3,br3,cr3,i+2)\n",
    "\n",
    "        i += 3\n",
    "        \n",
    "    # print(cs1, cs2, cs3, cr1, cr2, cr3)\n",
    "    print(cs1, gs1, cs2, gs2, cs3, gs3)"
   ]
  },
  {
   "cell_type": "raw",
   "id": "fbb20552-4c0d-4ad1-a4c0-204eb154dbb3",
   "metadata": {},
   "source": [
    "def getORFDensity (acid,a,b,c,f,g,i):\n",
    "    \n",
    "    #a: Startcodon position\n",
    "    #b: Stopcodon position\n",
    "    #c: smallest Stop-Start distance\n",
    "    #f: readingframe start\n",
    "    #g: longest readingframe distance\n",
    "    #i: position\n",
    "    \n",
    "    if acid == '+':\n",
    "        a = i \n",
    "        f = i if f == 0 else f\n",
    "        c = i-b if i-b <= c and b > 0 else c\n",
    "        #c = c+i-b if b > 0 else c\n",
    "          \n",
    "    elif acid == '-':\n",
    "        b = i\n",
    "        g = i-f if i-f >= g and f > 0 else g\n",
    "        f = 0 if f != 0 else f\n",
    "    \n",
    "    # print(a,b,c,f,g,i)\n",
    "    return(a,b,c,f,g)"
   ]
  },
  {
   "cell_type": "raw",
   "id": "checked-measure",
   "metadata": {},
   "source": [
    "##ONLY FOR TESTING CELL \n",
    "### DELETE AFTER\n",
    "\n",
    "aminostr = {\n",
    "    'ATG':'[start]', 'TAA':'[stop]', 'TAG':'[stop]', 'TGA':'[stop]',\n",
    "}\n",
    "\n",
    "for l in [0,1,2]:\n",
    "    x1 = ''\n",
    "    x2 = ''\n",
    "    y = str(sequence)\n",
    "    c = 0\n",
    "    d = 0\n",
    "    k = 0 + l\n",
    "\n",
    "    while k <= len(y)-2:\n",
    "\n",
    "        if aminostr.get(y[k:k+3], '') != '':\n",
    "            x1 += '[' + str(c) + ']' + aminostr.get(y[k:k+3])\n",
    "            print(k, y[k:k+3], aminostr.get(y[k:k+3]))\n",
    "            c = 0\n",
    "        else:\n",
    "            c += 1\n",
    "\n",
    "        k = k + 3\n",
    "\n",
    "#print(x1)\n",
    "#print(x2)"
   ]
  },
  {
   "cell_type": "code",
   "execution_count": 2,
   "id": "d2976a2f-f16e-4123-a8b7-988a94c7b539",
   "metadata": {},
   "outputs": [],
   "source": [
    "import networkx as nx"
   ]
  },
  {
   "cell_type": "code",
   "execution_count": 3,
   "id": "7b179869-7fe4-4bc8-840f-8b68e3e133b3",
   "metadata": {},
   "outputs": [],
   "source": [
    "G = nx.Graph()\n",
    "G.add_nodes_from([\"A\", \"B\", \"C\", \"D\", \"E\"])\n",
    "G.add_edges_from([(\"A\", \"B\"), (\"B\", \"C\"), (\"C\", \"D\"), (\"D\", \"E\")])"
   ]
  },
  {
   "cell_type": "code",
   "execution_count": 12,
   "id": "1f9c5225-634f-477d-bdbf-9be638079838",
   "metadata": {},
   "outputs": [
    {
     "data": {
      "text/plain": [
       "<networkx.classes.graph.Graph at 0x7f443c5b3e80>"
      ]
     },
     "execution_count": 12,
     "metadata": {},
     "output_type": "execute_result"
    }
   ],
   "source": [
    "G"
   ]
  },
  {
   "cell_type": "code",
   "execution_count": 11,
   "id": "21329019-5c8f-4345-bbb5-0763e3c4afaf",
   "metadata": {},
   "outputs": [
    {
     "data": {
      "text/plain": [
       "['A', 'B', 'C', 'D', 'E']"
      ]
     },
     "execution_count": 11,
     "metadata": {},
     "output_type": "execute_result"
    }
   ],
   "source": [
    "sp[\"A\"][\"E\"]"
   ]
  },
  {
   "cell_type": "code",
   "execution_count": 8,
   "id": "4f09baff-b4ac-4a3c-bb7d-ed301c75996c",
   "metadata": {},
   "outputs": [],
   "source": [
    "spl = nx.all_pairs_shortest_path_length(G)"
   ]
  },
  {
   "cell_type": "code",
   "execution_count": null,
   "id": "9377fa74-8ad2-4883-ae4a-8a6f12aa62f4",
   "metadata": {},
   "outputs": [],
   "source": []
  }
 ],
 "metadata": {
  "kernelspec": {
   "display_name": "Python 3",
   "language": "python",
   "name": "python3"
  },
  "language_info": {
   "codemirror_mode": {
    "name": "ipython",
    "version": 3
   },
   "file_extension": ".py",
   "mimetype": "text/x-python",
   "name": "python",
   "nbconvert_exporter": "python",
   "pygments_lexer": "ipython3",
   "version": "3.8.6"
  }
 },
 "nbformat": 4,
 "nbformat_minor": 5
}
