{
 "cells": [
  {
   "cell_type": "markdown",
   "id": "aa39d750-480e-4caf-bd26-1e91514fa052",
   "metadata": {
    "tags": []
   },
   "source": [
    "# Error in Clustering Notebook\n",
    "\n",
    "- status: unfinished\n",
    "\n",
    "![Error](Error.svg)"
   ]
  },
  {
   "cell_type": "code",
   "execution_count": 2,
   "id": "bffa8ecd-5bcd-44b7-b7e5-4ce14590f4dd",
   "metadata": {},
   "outputs": [],
   "source": [
    "import matplotlib.pyplot as plt\n",
    "import numpy as np\n",
    "import pandas as pd\n",
    "import math\n",
    "import re"
   ]
  },
  {
   "cell_type": "code",
   "execution_count": null,
   "id": "da37b3db-204b-41d7-b966-26e5736087ae",
   "metadata": {},
   "outputs": [],
   "source": []
  }
 ],
 "metadata": {
  "kernelspec": {
   "display_name": "Python 3",
   "language": "python",
   "name": "python3"
  },
  "language_info": {
   "codemirror_mode": {
    "name": "ipython",
    "version": 3
   },
   "file_extension": ".py",
   "mimetype": "text/x-python",
   "name": "python",
   "nbconvert_exporter": "python",
   "pygments_lexer": "ipython3",
   "version": "3.8.6"
  }
 },
 "nbformat": 4,
 "nbformat_minor": 5
}
