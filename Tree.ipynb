{
 "cells": [
  {
   "cell_type": "code",
   "execution_count": 26,
   "id": "491f2430-75ba-4f93-88b4-8c663f27fb01",
   "metadata": {},
   "outputs": [],
   "source": [
    "import collections as co\n",
    "import pandas as pd\n",
    "import numpy as np\n",
    "import seaborn as sns\n",
    "import re\n",
    "from ete3 import PhyloTree, Tree, faces, AttrFace, CircleFace, TreeStyle, NodeStyle, TextFace, RectFace, SequenceFace\n",
    "from scipy.cluInfluenza/Tree. (3) - JupyterLabster import hierarchy\n",
    "from sklearn.preprocessing import normalize\n",
    "import math\n",
    "from matplotlib import colors\n",
    "from natsort import natsorted\n",
    "from Bio import SeqIO\n",
    "from Bio.Seq import Seq\n",
    "import scipy.spatial.distance as ssd"
   ]
  },
  {
   "cell_type": "code",
   "execution_count": 2,
   "id": "c53e3f6f-412d-4075-931a-7ff30dad0f83",
   "metadata": {},
   "outputs": [],
   "source": [
    "def roundup(x):\n",
    "    return(int(math.ceil(int(x) / 10.0)) * 10)"
   ]
  },
  {
   "cell_type": "code",
   "execution_count": 3,
   "id": "4b63f942-de2d-48c5-8154-b4d3c13de0e9",
   "metadata": {},
   "outputs": [],
   "source": [
    "def rounddown(x):\n",
    "    return(int(math.floor(int(x) / 10.0)) * 10)"
   ]
  },
  {
   "cell_type": "code",
   "execution_count": 4,
   "id": "8737312b-d027-41a2-b09b-688bc5a19793",
   "metadata": {},
   "outputs": [],
   "source": [
    "def getTimespan(year):\n",
    "    \n",
    "    try:\n",
    "        down = rounddown(int(year))\n",
    "        up = roundup(int(year))\n",
    "        if down == up:\n",
    "            timespan = f'{down}-{up+10}'\n",
    "        else:\n",
    "            timespan = f'{down}-{up}'\n",
    "    except:\n",
    "        timespan = 'NA'#np.nan\n",
    "    \n",
    "    return(timespan)"
   ]
  },
  {
   "cell_type": "code",
   "execution_count": 5,
   "id": "b1abdbb0-fbd5-4bdb-91e7-41f45d727b8f",
   "metadata": {},
   "outputs": [],
   "source": [
    "def getHostselection(host, hostdict):\n",
    "    \n",
    "    hostsel = ''\n",
    "    for key in hostdict.keys():\n",
    "        if re.match('(?:% s)' % '|'.join(hostdict[key]), host, re.IGNORECASE):\n",
    "            hostsel = key\n",
    "            break\n",
    "    if not hostsel:\n",
    "        hostsel = 'NA'\n",
    "        #hostsel = host\n",
    "    \n",
    "    return(hostsel)"
   ]
  },
  {
   "cell_type": "code",
   "execution_count": 6,
   "id": "783952d7-1d2a-4bd2-a624-89efc40db664",
   "metadata": {},
   "outputs": [],
   "source": [
    "def getNewick(node, newick, parentdist, leaf_names):\n",
    "    \n",
    "    if node.is_leaf():\n",
    "        return(leaf_names[node.id] + \":\" + np.format_float_positional(parentdist - node.dist) + newick)\n",
    "        #return \"%s:%.5f%s\" % (leaf_names[node.id], parentdist - node.dist, newick)\n",
    "    \n",
    "    else:\n",
    "        if len(newick) > 0:\n",
    "            newick = \"):\" + np.format_float_positional(parentdist - node.dist) + newick\n",
    "            #newick = \"):%.5f%s\" % (parentdist - node.dist, newick)\n",
    "        else:\n",
    "            newick = \");\"\n",
    "        newick = getNewick(node.get_left(), newick, node.dist, leaf_names)\n",
    "        newick = getNewick(node.get_right(), \",\" + newick, node.dist, leaf_names)\n",
    "        #newick = getNewick(node.get_right(), \",%s\" % (newick), node.dist, leaf_names)\n",
    "        \n",
    "        newick = \"(\" + newick\n",
    "        #newick = \"(%s\" % (newick)\n",
    "        return(newick)"
   ]
  },
  {
   "cell_type": "code",
   "execution_count": 7,
   "id": "60d3d245-7473-4d98-a47d-4886a88dc947",
   "metadata": {},
   "outputs": [],
   "source": [
    "def getVector(frame, components, col):\n",
    "\n",
    "    duplicate = components.copy()\n",
    "    duplicate.update(frame[col].value_counts().to_dict())\n",
    "    \n",
    "    vector = pd.DataFrame([duplicate.values()])\n",
    "    duplicate.clear()\n",
    "    \n",
    "    return(vector)"
   ]
  },
  {
   "cell_type": "code",
   "execution_count": 8,
   "id": "93c26657-29ee-4834-b644-5e1cba14d681",
   "metadata": {},
   "outputs": [],
   "source": [
    "def getTree(framelink, treequery, feature = 'hostsel', rownumber = 2, segment = 4, prune = True, treshold = 0.5):\n",
    "    \n",
    "    treelabel = treequery.index.values\n",
    "    treestyle = TreeStyle()\n",
    "    treelink = framelink.drop(columns=['parent']).to_numpy()\n",
    "    treehierarchy = hierarchy.to_tree(treelink, False)\n",
    "    treenewick = getNewick(treehierarchy, \"\", treehierarchy.dist, treelabel)\n",
    "    treedict = treequery[['cluster', feature]].to_dict()\n",
    "    \n",
    "    listfeature = natsorted(list(set(treedict[feature].values())))\n",
    "\n",
    "    treecomponents = dict.fromkeys(listfeature, 0)\n",
    "    featurevectors = treequery[['cluster', feature]].groupby(by=['cluster']).apply(lambda x: getVector(x, treecomponents, feature))\n",
    "    featurevectors.reset_index(level = 1, drop = True, inplace=True)\n",
    "\n",
    "    listcluster = featurevectors.index.tolist()\n",
    "    featurel1vectors = normalize(featurevectors.to_numpy(), norm='l1')\n",
    "    framefeature = pd.DataFrame(featurel1vectors, index = listcluster, columns = listfeature)\n",
    "\n",
    "    tree = Tree(treenewick)\n",
    "    \n",
    "    listcolor = ['#FF0029','#377EB8','#66A61E','#984EA3','#00D2D5','#FF7F00',\n",
    "                 '#AF8D00','#7F80CD','#B3E900','#C42E60','#A65628','#F781BF',\n",
    "                 '#8DD3C7','#BEBADA','#FB8072','#80B1D3','#FDB462','#FCCDE5', \n",
    "                 '#99A893','#EED5D2','#3F00FF','#DABF86']\n",
    "    \n",
    "    if treshold != 0.0:\n",
    "        listfeature.append('mixed')\n",
    "    \n",
    "    dictcolor = dict(zip(listfeature, listcolor[0:len(listfeature)]))\n",
    "    prunecluster = []\n",
    "    \n",
    "    for node in tree.traverse():\n",
    "        node.img_style[\"vt_line_width\"] = 1\n",
    "        node.img_style[\"hz_line_width\"] = 1\n",
    "        node.img_style[\"vt_line_type\"] = 0\n",
    "        node.img_style[\"hz_line_type\"] = 0\n",
    "        node.img_style[\"fgcolor\"] = \"#000000\"\n",
    "        node.img_style[\"shape\"] = \"circle\"\n",
    "        node.img_style[\"vt_line_color\"] = \"#000000\"\n",
    "        node.img_style[\"hz_line_color\"] = \"#000000\"\n",
    "        node.img_style['bgcolor'] = 'lightgrey'\n",
    "    \n",
    "    for leaf in tree.iter_leaves():\n",
    "        leaf.feature = treedict[feature].get(leaf.name, \"none\")\n",
    "        leaf.cluster = treedict['cluster'].get(leaf.name, \"none\")\n",
    "    \n",
    "    if -1 in listcluster:\n",
    "        listcluster.remove(-1)\n",
    "    \n",
    "    for cluster in listcluster:\n",
    "        listmember = tree.search_nodes(cluster=cluster)\n",
    "        nodecluster = tree.get_common_ancestor(listmember)\n",
    "        nodecluster.name = f'cluster {cluster}'\n",
    "        nodecluster.size = len(listmember)\n",
    "        \n",
    "        frame = framefeature.loc[cluster].sort_values(axis=0, ascending=False)\n",
    "        \n",
    "        if treshold != 0.0:\n",
    "            nodecluster.feature = (frame.idxmax() if frame.max() >= treshold else 'mixed')\n",
    "        else:\n",
    "            nodecluster.feature = frame.idxmax()\n",
    "        \n",
    "        nodecluster.add_face(AttrFace(\"name\", fsize=10), 0, position=\"aligned\")\n",
    "        nodecluster.add_face(AttrFace(\"size\", fsize=10, text_prefix='|', text_suffix='|'), 1, position=\"aligned\") \n",
    "        nodecluster.img_style['bgcolor'] = dictcolor[nodecluster.feature]\n",
    "        \n",
    "        prunecluster.append(nodecluster.name)    \n",
    "        \n",
    "    if prune == True:\n",
    "        tree.prune(prunecluster)\n",
    "        \n",
    "    treestyle =  TreeStyle()\n",
    "    treestyle.show_leaf_name = False\n",
    "    treestyle.draw_guiding_lines = True\n",
    "    treestyle.guiding_lines_color = 'black'\n",
    "    treestyle.mode = \"c\"\n",
    "    treestyle.allow_face_overlap = False\n",
    "\n",
    "    column = 0\n",
    "    for i, feature in enumerate(listfeature, 1): \n",
    "        legendcolor = RectFace(width = 20, height = 20, fgcolor = \"#000000\", bgcolor = dictcolor[feature], label = None)\n",
    "        treestyle.legend.add_face(legendcolor, column = column)\n",
    "        legendtext = TextFace(feature)\n",
    "        legendtext.margin_right = 5\n",
    "        legendtext.margin_left = 1\n",
    "        treestyle.legend.add_face(legendtext, column = column + 1)\n",
    "\n",
    "        if i%rownumber == 0:\n",
    "            column = column + 2\n",
    "\n",
    "    treestyle.legend_position = 1\n",
    "        \n",
    "    return(tree, treestyle)"
   ]
  },
  {
   "cell_type": "code",
   "execution_count": 9,
   "id": "d71085df-e06b-4ccf-8481-c7dd0a725513",
   "metadata": {},
   "outputs": [],
   "source": [
    "def subsplit(subtype):\n",
    "    \n",
    "    if re.match('^[H][0-9]+N[0-9]+$', subtype): \n",
    "        H = re.search('[H][0-9]+', subtype).group(0)\n",
    "        N = re.search('[N][0-9]+', subtype).group(0)\n",
    "    else:\n",
    "        H = ''#np.nan\n",
    "        N = ''#np.nan\n",
    "    return(H, N)"
   ]
  },
  {
   "cell_type": "code",
   "execution_count": 10,
   "id": "837868a4-eff2-48da-a7b1-b5ba76c2d604",
   "metadata": {},
   "outputs": [],
   "source": [
    "def fillGaps(frame):\n",
    "    \n",
    "    arrayH = frame['H'].unique()\n",
    "    arrayH = arrayH[arrayH != '']\n",
    "    if len(arrayH) == 1:\n",
    "        frame['H'].replace('', arrayH[0], inplace = True)\n",
    "        frame['H'].fillna(arrayH[0], inplace = True)\n",
    "    else:\n",
    "        frame['H'].replace('', 'NA', inplace = True)\n",
    "        frame['H'].fillna('NA', inplace = True)\n",
    "\n",
    "    arrayN = frame['N'].unique()\n",
    "    arrayN = arrayN[arrayN != '']\n",
    "    if len(arrayN) == 1:\n",
    "        frame['N'].replace('', arrayN[0], inplace = True)\n",
    "        frame['N'].fillna(arrayN[0], inplace = True)\n",
    "    else:\n",
    "        frame['N'].replace('', 'NA', inplace = True)\n",
    "        frame['N'].fillna('NA', inplace = True)\n",
    "        \n",
    "    return(frame)"
   ]
  },
  {
   "cell_type": "code",
   "execution_count": 11,
   "id": "f1ce484e-fa95-4352-a16e-9bc69b40ea58",
   "metadata": {},
   "outputs": [],
   "source": [
    "hostdict =\t{\n",
    "    \"human\": [\".*human.*\"],\n",
    "    \"duck\": [\".*duck.*\", \".*scaup.*\", \".*pochard.*\", \".*mallard.*\", \".*bufflehead.*\", \".*gadwall.*\", \".*teal.*\", \".*pintail.*\", \".*shoveler.*\", \".*wigeon.*\", \".*pintail.*\", \".*godwall.*\", \".*goldeneye.*\"],\n",
    "    \"bird\": [\".*murre.*\", \".*crane.*\", \".*hawk.*\", \".*dove.*\", \".*parrot.*\", \".*dunlin.*\", \".*owl.*\", \".*shearwater.*\", \".*bird.*\", \".*grebe.*\", \".*pheasant.*\", \".*stint.*\", \".*sparrow.*\", \".*crow.*\", \".*sandpiper.*\", \".*falcon.*\", \".*ostrich.*\", \".*stork.*\", \".*pigeon.*\", \".*turkey.*\", \".*sanderling.*\", \".*knot.*\", \".*quail.*\", \".*waterfowl.*\", \".*turnstone.*\", \".*bird.*\", \".*fowl.*\", \".*avian.*\"],\n",
    "    \"gull\": [\".*gull.*\"],\n",
    "    \"chicken\": [\".*chicken.*\"],\n",
    "    \"cat\": [\".*cat.*\", \".*tiger.*\"],\n",
    "    \"bat\": [\".*bat.*\"],\n",
    "    \"swan\": [\".*swan.*\"],\n",
    "    \"swine\": [\".*swine.*\"],\n",
    "    \"equine\": [\".*equine.*\"],\n",
    "    \"dog\": [\".*dog.*\"],\n",
    "    \"goose\": [\".*goose.*\"],\n",
    "    \"horse\": [\".*horse.*\"],\n",
    "    \"environment\": [\".*environment.*\"],\n",
    "    \"NA\": [\".*unknown.*\"],\n",
    "    \"ferret\": [\".*mink.*\", \".*ferret.*\", \".*weasel.*\"]\n",
    "}"
   ]
  },
  {
   "cell_type": "code",
   "execution_count": 12,
   "id": "c790a599-3aea-481d-88a1-629caae8edf1",
   "metadata": {},
   "outputs": [],
   "source": [
    "link = pd.read_csv('linkage_new.csv', sep = ',', na_filter = False, header = 0)\n",
    "cluster = pd.read_csv('cluster_new.csv', sep = ',', na_filter = False, header = 0, index_col = 0)"
   ]
  },
  {
   "cell_type": "code",
   "execution_count": 16,
   "id": "4886701c-d853-415b-b50a-3b3c6c90c684",
   "metadata": {},
   "outputs": [],
   "source": [
    "exclude = [i for i, line in enumerate(open('A.fasta')) if not line.startswith('>')]\n",
    "framemeta = pd.read_csv('A.fasta', skiprows = exclude, sep = '|', na_filter = False, header = None)\n",
    "framemeta.columns = ['accession', 'strain', 'segment', 'protein', 'genus', 'subtype', 'date', 'host', 'curation', 'season', 'country', 'america']"
   ]
  },
  {
   "cell_type": "code",
   "execution_count": 20,
   "id": "1b23b950-0235-468c-b920-c35961717dc0",
   "metadata": {},
   "outputs": [],
   "source": [
    "framemeta['accession'] = framemeta['accession'].apply(lambda x: x.replace('>', ''))\n",
    "framemeta[['month', 'day', 'year']] = framemeta['date'].apply(lambda x : x if len(re.findall('/', x)) == 2 else (x.split('/')[0] + '/NA/' + x.split('/')[1] if len(re.findall('/', x)) == 1 else 'NA/NA/' + x)).str.split('/', expand=True)\n",
    "framemeta['year'] = framemeta['year'].apply(lambda x: x if not x.startswith('00') else '20' + x[2:])\n",
    "framemeta[['H', 'N']] = framemeta['subtype'].apply(lambda x: subsplit(x)).tolist()\n",
    "framemeta['timespan'] = framemeta['year'].apply(lambda x : getTimespan(x))\n",
    "framemeta['hostsel'] = framemeta['host'].apply(lambda x : getHostselection(x, hostdict))"
   ]
  },
  {
   "cell_type": "code",
   "execution_count": 21,
   "id": "6452a3be-8fc1-4cb3-8b89-2a19db3a95d1",
   "metadata": {},
   "outputs": [],
   "source": [
    "framemeta.set_index(keys = 'accession', inplace = True)"
   ]
  },
  {
   "cell_type": "code",
   "execution_count": 22,
   "id": "37609c75-6cb4-4102-9d41-aa6d5b7426bb",
   "metadata": {},
   "outputs": [],
   "source": [
    "treequery = cluster.join(framemeta)\n",
    "treequery[['H', 'N']] = treequery.groupby(by = ['cluster'])[['H', 'N']].apply(lambda x : fillGaps(x))\n",
    "treequery.replace('', 'NA', inplace = True)"
   ]
  },
  {
   "cell_type": "code",
   "execution_count": 23,
   "id": "6f9dcabc-5fc0-48b4-8d19-e3ff0a14de6e",
   "metadata": {},
   "outputs": [],
   "source": [
    "tree, ts = getTree(link, treequery, feature = 'H', rownumber = 2, segment = 4, prune = True, treshold = 1.0)\n",
    "#tree, ts = getTree(link, treequery, feature = 'hostsel', rownumber = 3, segment = 4, prune = True, treshold = 0.9)\n",
    "#tree, ts = getTree(link, treequery, feature = 'timespan', rownumber = 4, segment = 4, prune = True, treshold = 0.5)\n",
    "#tree.render(file_name = '%%inline', tree_style = ts, w = 500)"
   ]
  },
  {
   "cell_type": "code",
   "execution_count": 24,
   "id": "2073c908-605d-4d73-8dfc-52d4934bf2f8",
   "metadata": {},
   "outputs": [],
   "source": [
    "matrixl2 = pd.read_csv('matrixl2.csv', sep = ',', na_filter = False, index_col = 0)"
   ]
  },
  {
   "cell_type": "code",
   "execution_count": 27,
   "id": "3e8c8d04-e3bf-4f91-bb64-3f27ece4cfb4",
   "metadata": {},
   "outputs": [],
   "source": [
    "group = cluster.join(matrixl2).set_index('cluster')\n",
    "index = set(group.index.tolist())\n",
    "frame = np.empty([len(index), len(index)])\n",
    "strindex = []\n",
    "for i,j in enumerate(index):\n",
    "    strindex.append('cluster ' + str(j))\n",
    "    for m,n in enumerate(index):\n",
    "        if j == n:\n",
    "            frame[i,m] = 0.0\n",
    "        else:\n",
    "            frame[i,m] = ssd.cdist(group.query('cluster == @j'), group.query('cluster == @n'), 'euclidean').mean()"
   ]
  },
  {
   "cell_type": "code",
   "execution_count": 28,
   "id": "cb45ed42-795a-40db-9f02-1c94bc0fe6bf",
   "metadata": {},
   "outputs": [],
   "source": [
    "distcos = pd.DataFrame(frame, index = strindex, columns = strindex)"
   ]
  },
  {
   "cell_type": "code",
   "execution_count": 29,
   "id": "9f5b2669-ec81-46dd-b2fa-d1184c929a85",
   "metadata": {},
   "outputs": [],
   "source": [
    "leaves = tree.get_leaf_names()\n",
    "clust = np.empty([len(leaves), len(leaves)])\n",
    "for i,j in enumerate(leaves):\n",
    "    for m,n in enumerate(leaves):\n",
    "        if j == n:\n",
    "            clust[i,m] = 0.0\n",
    "        else:\n",
    "            clust[i,m] = tree.get_distance(j, n)"
   ]
  },
  {
   "cell_type": "code",
   "execution_count": 30,
   "id": "22ee8c0f-d4c0-4ea8-b22f-d03270a372cf",
   "metadata": {},
   "outputs": [],
   "source": [
    "disttree = pd.DataFrame(clust, index = tree.get_leaf_names(), columns = tree.get_leaf_names())"
   ]
  },
  {
   "cell_type": "code",
   "execution_count": 2,
   "id": "4cbb2f7e-c485-4a14-815d-8e9b4f8a10c8",
   "metadata": {},
   "outputs": [
    {
     "ename": "NameError",
     "evalue": "name 'leaves' is not defined",
     "output_type": "error",
     "traceback": [
      "\u001b[0;31m-------------------------------------------------------------------\u001b[0m",
      "\u001b[0;31mNameError\u001b[0m                         Traceback (most recent call last)",
      "\u001b[0;32m<ipython-input-2-94d69f040530>\u001b[0m in \u001b[0;36m<module>\u001b[0;34m\u001b[0m\n\u001b[0;32m----> 1\u001b[0;31m \u001b[0;32mfor\u001b[0m \u001b[0mleaf\u001b[0m \u001b[0;32min\u001b[0m \u001b[0mleaves\u001b[0m\u001b[0;34m:\u001b[0m\u001b[0;34m\u001b[0m\u001b[0;34m\u001b[0m\u001b[0m\n\u001b[0m\u001b[1;32m      2\u001b[0m \u001b[0;34m\u001b[0m\u001b[0m\n\u001b[1;32m      3\u001b[0m     \u001b[0mbesttree\u001b[0m \u001b[0;34m=\u001b[0m \u001b[0mdisttree\u001b[0m\u001b[0;34m.\u001b[0m\u001b[0mnsmallest\u001b[0m\u001b[0;34m(\u001b[0m\u001b[0;36m2\u001b[0m\u001b[0;34m,\u001b[0m \u001b[0;34m[\u001b[0m\u001b[0mleaf\u001b[0m\u001b[0;34m]\u001b[0m\u001b[0;34m)\u001b[0m\u001b[0;34m.\u001b[0m\u001b[0mindex\u001b[0m\u001b[0;34m.\u001b[0m\u001b[0mtolist\u001b[0m\u001b[0;34m(\u001b[0m\u001b[0;34m)\u001b[0m\u001b[0;34m\u001b[0m\u001b[0;34m\u001b[0m\u001b[0m\n\u001b[1;32m      4\u001b[0m     \u001b[0mbestcos\u001b[0m \u001b[0;34m=\u001b[0m \u001b[0mdistcos\u001b[0m\u001b[0;34m.\u001b[0m\u001b[0mnsmallest\u001b[0m\u001b[0;34m(\u001b[0m\u001b[0;36m2\u001b[0m\u001b[0;34m,\u001b[0m \u001b[0;34m[\u001b[0m\u001b[0mleaf\u001b[0m\u001b[0;34m]\u001b[0m\u001b[0;34m)\u001b[0m\u001b[0;34m.\u001b[0m\u001b[0mindex\u001b[0m\u001b[0;34m.\u001b[0m\u001b[0mtolist\u001b[0m\u001b[0;34m(\u001b[0m\u001b[0;34m)\u001b[0m\u001b[0;34m\u001b[0m\u001b[0;34m\u001b[0m\u001b[0m\n\u001b[1;32m      5\u001b[0m \u001b[0;34m\u001b[0m\u001b[0m\n",
      "\u001b[0;31mNameError\u001b[0m: name 'leaves' is not defined"
     ]
    }
   ],
   "source": [
    "for leaf in leaves:\n",
    "\n",
    "    besttree = disttree.nsmallest(2, [leaf]).index.tolist()\n",
    "    bestcos = distcos.nsmallest(2, [leaf]).index.tolist()\n",
    "\n",
    "    if besttree != bestcos:\n",
    "        print(leaf, besttree, bestcos)\n",
    "    #for other in best:\n",
    "        #[int(b.split(' ')[1]) for b in best]"
   ]
  },
  {
   "cell_type": "code",
   "execution_count": null,
   "id": "20672336-7bc1-4eb4-ad27-fbf6fab41cfc",
   "metadata": {},
   "outputs": [],
   "source": []
  }
 ],
 "metadata": {
  "kernelspec": {
   "display_name": "Python 3",
   "language": "python",
   "name": "python3"
  },
  "language_info": {
   "codemirror_mode": {
    "name": "ipython",
    "version": 3
   },
   "file_extension": ".py",
   "mimetype": "text/x-python",
   "name": "python",
   "nbconvert_exporter": "python",
   "pygments_lexer": "ipython3",
   "version": "3.8.6"
  }
 },
 "nbformat": 4,
 "nbformat_minor": 5
}
